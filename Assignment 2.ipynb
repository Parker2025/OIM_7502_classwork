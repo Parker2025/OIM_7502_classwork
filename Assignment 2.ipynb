{
 "cells": [
  {
   "cell_type": "markdown",
   "id": "c441e4ca",
   "metadata": {},
   "source": [
    "# Assignment 2\n",
    "* In this assignment you will be working with three data files from iMDB:\n",
    "    * cast.csv\n",
    "    * release_dates.csv\n",
    "    * titles.csv\n",
    "* Using the appropriate file(s), answer the following questions\n",
    "* Some questions can be completed with one-liners while others are a bit more involved\n",
    "* Where appropriate, answers should also provide brief commentary\n",
    "* Exclude data that doen't make senss, i.e. data from the future\n",
    "* Once complete upload this notebook to your classwork Github repo and post the link on Canvas "
   ]
  },
  {
   "cell_type": "code",
   "execution_count": 2,
   "id": "f4594546",
   "metadata": {},
   "outputs": [],
   "source": [
    "import numpy as np\n",
    "import pandas as pd\n",
    "import matplotlib.pyplot as plt\n",
    "\n",
    "cast = pd.read_csv(\"data/cast.csv\")\n",
    "dates = pd.read_csv(\"data/release_dates.csv\")\n",
    "titles = pd.read_csv(\"data/titles.csv\")"
   ]
  },
  {
   "cell_type": "markdown",
   "id": "7f3efd04",
   "metadata": {},
   "source": [
    "### 1. Conduct a high level assessment of the three data files, i.e. how many records are there, what kind of data, etc. Summarize your findings with annotation. "
   ]
  },
  {
   "cell_type": "markdown",
   "id": "97eae9e9-cfc7-4609-8ff7-1abf4776cb38",
   "metadata": {},
   "source": [
    "Cast has 3,442,902 total records, but some columns are missing some information, which is why they show different amounts when I count how many records are in each row. The release dates data set has 443,486 records while the titles data set has 226,013 records.  Both of these datasets have some variance in total number of records in each column, but not as much as the cast dataset. In Cast Title, Name, Type and Character are all objects, while n is a float and year is a integer.  In the release dates data set year is an integer while title, country and date are all objects.  For the title dataset title is an object and year is an integer.  It's interesting that in the release date dataset year is an integer while date is an object.  "
   ]
  },
  {
   "cell_type": "code",
   "execution_count": 4,
   "id": "03bc8314",
   "metadata": {},
   "outputs": [
    {
     "name": "stdout",
     "output_type": "stream",
     "text": [
      "Cast\n",
      "<class 'pandas.core.frame.DataFrame'>\n",
      "RangeIndex: 3442902 entries, 0 to 3442901\n",
      "Data columns (total 6 columns):\n",
      " #   Column     Dtype  \n",
      "---  ------     -----  \n",
      " 0   title      object \n",
      " 1   year       int64  \n",
      " 2   name       object \n",
      " 3   type       object \n",
      " 4   character  object \n",
      " 5   n          float64\n",
      "dtypes: float64(1), int64(1), object(4)\n",
      "memory usage: 157.6+ MB\n",
      "Release Dates\n",
      "<class 'pandas.core.frame.DataFrame'>\n",
      "RangeIndex: 443486 entries, 0 to 443485\n",
      "Data columns (total 4 columns):\n",
      " #   Column   Non-Null Count   Dtype \n",
      "---  ------   --------------   ----- \n",
      " 0   title    443485 non-null  object\n",
      " 1   year     443486 non-null  int64 \n",
      " 2   country  443486 non-null  object\n",
      " 3   date     443486 non-null  object\n",
      "dtypes: int64(1), object(3)\n",
      "memory usage: 13.5+ MB\n",
      "Titles\n",
      "<class 'pandas.core.frame.DataFrame'>\n",
      "RangeIndex: 226013 entries, 0 to 226012\n",
      "Data columns (total 2 columns):\n",
      " #   Column  Non-Null Count   Dtype \n",
      "---  ------  --------------   ----- \n",
      " 0   title   226012 non-null  object\n",
      " 1   year    226013 non-null  int64 \n",
      "dtypes: int64(1), object(1)\n",
      "memory usage: 3.4+ MB\n"
     ]
    }
   ],
   "source": [
    "print(\"Cast\")\n",
    "cast.info()\n",
    "print(\"Release Dates\")\n",
    "dates.info()\n",
    "print(\"Titles\")\n",
    "titles.info()"
   ]
  },
  {
   "cell_type": "code",
   "execution_count": 5,
   "id": "4a1fa38a-95e6-486d-a773-e945e57d1afc",
   "metadata": {},
   "outputs": [
    {
     "data": {
      "text/plain": [
       "title        3442896\n",
       "year         3442902\n",
       "name         3442902\n",
       "type         3442902\n",
       "character    3442894\n",
       "n            2115119\n",
       "dtype: int64"
      ]
     },
     "execution_count": 5,
     "metadata": {},
     "output_type": "execute_result"
    }
   ],
   "source": [
    "cast.count()\n",
    "\n"
   ]
  },
  {
   "cell_type": "code",
   "execution_count": 6,
   "id": "70f94e44-f40b-4f53-9f1a-473831b67f8a",
   "metadata": {},
   "outputs": [
    {
     "data": {
      "text/plain": [
       "title      443485\n",
       "year       443486\n",
       "country    443486\n",
       "date       443486\n",
       "dtype: int64"
      ]
     },
     "execution_count": 6,
     "metadata": {},
     "output_type": "execute_result"
    }
   ],
   "source": [
    "dates.count()"
   ]
  },
  {
   "cell_type": "code",
   "execution_count": 7,
   "id": "dc8089b3-854f-4019-a5ec-5de4f17f88a5",
   "metadata": {},
   "outputs": [
    {
     "data": {
      "text/plain": [
       "title    226012\n",
       "year     226013\n",
       "dtype: int64"
      ]
     },
     "execution_count": 7,
     "metadata": {},
     "output_type": "execute_result"
    }
   ],
   "source": [
    "titles.count()"
   ]
  },
  {
   "cell_type": "markdown",
   "id": "8949aee1",
   "metadata": {},
   "source": [
    "### 2. How many movies have the title North by Northwest"
   ]
  },
  {
   "cell_type": "code",
   "execution_count": 10,
   "id": "712cba84",
   "metadata": {},
   "outputs": [
    {
     "data": {
      "text/html": [
       "<div>\n",
       "<style scoped>\n",
       "    .dataframe tbody tr th:only-of-type {\n",
       "        vertical-align: middle;\n",
       "    }\n",
       "\n",
       "    .dataframe tbody tr th {\n",
       "        vertical-align: top;\n",
       "    }\n",
       "\n",
       "    .dataframe thead th {\n",
       "        text-align: right;\n",
       "    }\n",
       "</style>\n",
       "<table border=\"1\" class=\"dataframe\">\n",
       "  <thead>\n",
       "    <tr style=\"text-align: right;\">\n",
       "      <th></th>\n",
       "      <th>title</th>\n",
       "      <th>year</th>\n",
       "    </tr>\n",
       "  </thead>\n",
       "  <tbody>\n",
       "    <tr>\n",
       "      <th>201761</th>\n",
       "      <td>North by Northwest</td>\n",
       "      <td>1959</td>\n",
       "    </tr>\n",
       "  </tbody>\n",
       "</table>\n",
       "</div>"
      ],
      "text/plain": [
       "                     title  year\n",
       "201761  North by Northwest  1959"
      ]
     },
     "execution_count": 10,
     "metadata": {},
     "output_type": "execute_result"
    }
   ],
   "source": [
    "titles[titles['title'] == 'North by Northwest']"
   ]
  },
  {
   "cell_type": "markdown",
   "id": "e1b9cb85-f3ed-45fe-abdf-ac33e50a4789",
   "metadata": {},
   "source": [
    "There is one movie that has the exact title of North by Northwest. I also wanted to see if there were other movies that contained North by Northwest, but might have something before or after IE: The North by Northwest 2, but there weren't any.  "
   ]
  },
  {
   "cell_type": "code",
   "execution_count": 12,
   "id": "7abb00ce-0d3f-4999-858e-98786c72f824",
   "metadata": {},
   "outputs": [
    {
     "data": {
      "text/html": [
       "<div>\n",
       "<style scoped>\n",
       "    .dataframe tbody tr th:only-of-type {\n",
       "        vertical-align: middle;\n",
       "    }\n",
       "\n",
       "    .dataframe tbody tr th {\n",
       "        vertical-align: top;\n",
       "    }\n",
       "\n",
       "    .dataframe thead th {\n",
       "        text-align: right;\n",
       "    }\n",
       "</style>\n",
       "<table border=\"1\" class=\"dataframe\">\n",
       "  <thead>\n",
       "    <tr style=\"text-align: right;\">\n",
       "      <th></th>\n",
       "      <th>title</th>\n",
       "      <th>year</th>\n",
       "    </tr>\n",
       "  </thead>\n",
       "  <tbody>\n",
       "    <tr>\n",
       "      <th>201761</th>\n",
       "      <td>North by Northwest</td>\n",
       "      <td>1959</td>\n",
       "    </tr>\n",
       "  </tbody>\n",
       "</table>\n",
       "</div>"
      ],
      "text/plain": [
       "                     title  year\n",
       "201761  North by Northwest  1959"
      ]
     },
     "execution_count": 12,
     "metadata": {},
     "output_type": "execute_result"
    }
   ],
   "source": [
    "titles[titles.title.str.contains('North by Northwest', na = False)]\n"
   ]
  },
  {
   "cell_type": "markdown",
   "id": "651191f3",
   "metadata": {},
   "source": [
    "### 3. How many version of Hamlet are there, when was the first made? the last?"
   ]
  },
  {
   "cell_type": "markdown",
   "id": "449f737e-0c76-4f7b-97a8-5657d3ce1e90",
   "metadata": {},
   "source": [
    "There are 55 versions of Hamlet in the titles dataset, with the first being made in 1910 and the last being made in 2018."
   ]
  },
  {
   "cell_type": "code",
   "execution_count": 15,
   "id": "1e421672",
   "metadata": {},
   "outputs": [
    {
     "data": {
      "text/plain": [
       "title    55\n",
       "year     55\n",
       "dtype: int64"
      ]
     },
     "execution_count": 15,
     "metadata": {},
     "output_type": "execute_result"
    }
   ],
   "source": [
    "titles[titles.title.str.contains('Hamlet', na = False)].count()"
   ]
  },
  {
   "cell_type": "code",
   "execution_count": 16,
   "id": "b731349e-392a-4662-91db-e6de695fca7c",
   "metadata": {},
   "outputs": [
    {
     "data": {
      "text/plain": [
       "title    A Sagebrush Hamlet\n",
       "year                   1910\n",
       "dtype: object"
      ]
     },
     "execution_count": 16,
     "metadata": {},
     "output_type": "execute_result"
    }
   ],
   "source": [
    "titles[titles.title.str.contains('Hamlet', na = False)].min()"
   ]
  },
  {
   "cell_type": "code",
   "execution_count": 17,
   "id": "dbdf171b-5960-4d41-b4cf-1011c23e5414",
   "metadata": {},
   "outputs": [
    {
     "data": {
      "text/plain": [
       "title    Zombie Hamlet\n",
       "year              2018\n",
       "dtype: object"
      ]
     },
     "execution_count": 17,
     "metadata": {},
     "output_type": "execute_result"
    }
   ],
   "source": [
    "titles[titles.title.str.contains('Hamlet', na = False)].max()"
   ]
  },
  {
   "cell_type": "code",
   "execution_count": 18,
   "id": "059163dc-5a4e-447e-8128-96181eab10cd",
   "metadata": {},
   "outputs": [
    {
     "data": {
      "text/html": [
       "<div>\n",
       "<style scoped>\n",
       "    .dataframe tbody tr th:only-of-type {\n",
       "        vertical-align: middle;\n",
       "    }\n",
       "\n",
       "    .dataframe tbody tr th {\n",
       "        vertical-align: top;\n",
       "    }\n",
       "\n",
       "    .dataframe thead th {\n",
       "        text-align: right;\n",
       "    }\n",
       "</style>\n",
       "<table border=\"1\" class=\"dataframe\">\n",
       "  <thead>\n",
       "    <tr style=\"text-align: right;\">\n",
       "      <th></th>\n",
       "      <th>title</th>\n",
       "      <th>year</th>\n",
       "    </tr>\n",
       "  </thead>\n",
       "  <tbody>\n",
       "    <tr>\n",
       "      <th>79939</th>\n",
       "      <td>Hamlet</td>\n",
       "      <td>1910</td>\n",
       "    </tr>\n",
       "    <tr>\n",
       "      <th>129673</th>\n",
       "      <td>Hamlet</td>\n",
       "      <td>1911</td>\n",
       "    </tr>\n",
       "    <tr>\n",
       "      <th>164637</th>\n",
       "      <td>Hamlet</td>\n",
       "      <td>1913</td>\n",
       "    </tr>\n",
       "    <tr>\n",
       "      <th>150955</th>\n",
       "      <td>A Sagebrush Hamlet</td>\n",
       "      <td>1919</td>\n",
       "    </tr>\n",
       "    <tr>\n",
       "      <th>221419</th>\n",
       "      <td>Hamlet</td>\n",
       "      <td>1921</td>\n",
       "    </tr>\n",
       "    <tr>\n",
       "      <th>54760</th>\n",
       "      <td>Han, hun og Hamlet</td>\n",
       "      <td>1922</td>\n",
       "    </tr>\n",
       "    <tr>\n",
       "      <th>161129</th>\n",
       "      <td>Han, hun og Hamlet</td>\n",
       "      <td>1932</td>\n",
       "    </tr>\n",
       "    <tr>\n",
       "      <th>221201</th>\n",
       "      <td>Hamlet</td>\n",
       "      <td>1948</td>\n",
       "    </tr>\n",
       "    <tr>\n",
       "      <th>220568</th>\n",
       "      <td>Hamlet</td>\n",
       "      <td>1954</td>\n",
       "    </tr>\n",
       "    <tr>\n",
       "      <th>132525</th>\n",
       "      <td>Hamlet (II)</td>\n",
       "      <td>1964</td>\n",
       "    </tr>\n",
       "    <tr>\n",
       "      <th>113670</th>\n",
       "      <td>Hamlet</td>\n",
       "      <td>1964</td>\n",
       "    </tr>\n",
       "    <tr>\n",
       "      <th>73929</th>\n",
       "      <td>Hamlet</td>\n",
       "      <td>1969</td>\n",
       "    </tr>\n",
       "    <tr>\n",
       "      <th>204180</th>\n",
       "      <td>Hamlet</td>\n",
       "      <td>1973</td>\n",
       "    </tr>\n",
       "    <tr>\n",
       "      <th>93945</th>\n",
       "      <td>Predstava 'Hamleta' u Mrdusi Donjoj</td>\n",
       "      <td>1974</td>\n",
       "    </tr>\n",
       "    <tr>\n",
       "      <th>64116</th>\n",
       "      <td>Hamlet</td>\n",
       "      <td>1976</td>\n",
       "    </tr>\n",
       "    <tr>\n",
       "      <th>21870</th>\n",
       "      <td>Intikam Melegi/Kadin Hamlet</td>\n",
       "      <td>1976</td>\n",
       "    </tr>\n",
       "    <tr>\n",
       "      <th>121873</th>\n",
       "      <td>Hamlet liikemaailmassa</td>\n",
       "      <td>1987</td>\n",
       "    </tr>\n",
       "    <tr>\n",
       "      <th>144085</th>\n",
       "      <td>Hamlet</td>\n",
       "      <td>1987</td>\n",
       "    </tr>\n",
       "    <tr>\n",
       "      <th>46606</th>\n",
       "      <td>Hamlet: Prince of Denmark</td>\n",
       "      <td>1989</td>\n",
       "    </tr>\n",
       "    <tr>\n",
       "      <th>174856</th>\n",
       "      <td>Hamlet</td>\n",
       "      <td>1990</td>\n",
       "    </tr>\n",
       "    <tr>\n",
       "      <th>156416</th>\n",
       "      <td>H for Hamlet</td>\n",
       "      <td>1993</td>\n",
       "    </tr>\n",
       "    <tr>\n",
       "      <th>37189</th>\n",
       "      <td>Green Eggs and Hamlet</td>\n",
       "      <td>1995</td>\n",
       "    </tr>\n",
       "    <tr>\n",
       "      <th>144430</th>\n",
       "      <td>Fuck Hamlet</td>\n",
       "      <td>1996</td>\n",
       "    </tr>\n",
       "    <tr>\n",
       "      <th>213476</th>\n",
       "      <td>Hamlet</td>\n",
       "      <td>1996</td>\n",
       "    </tr>\n",
       "    <tr>\n",
       "      <th>212010</th>\n",
       "      <td>Hamlet, Prince of Denmark</td>\n",
       "      <td>1997</td>\n",
       "    </tr>\n",
       "    <tr>\n",
       "      <th>141682</th>\n",
       "      <td>Hamlet</td>\n",
       "      <td>2000</td>\n",
       "    </tr>\n",
       "    <tr>\n",
       "      <th>65095</th>\n",
       "      <td>Hamlet in the Hamptons</td>\n",
       "      <td>2002</td>\n",
       "    </tr>\n",
       "    <tr>\n",
       "      <th>118867</th>\n",
       "      <td>Hamlet X</td>\n",
       "      <td>2004</td>\n",
       "    </tr>\n",
       "    <tr>\n",
       "      <th>59877</th>\n",
       "      <td>Dogg's Hamlet, Cahoot's Macbeth</td>\n",
       "      <td>2005</td>\n",
       "    </tr>\n",
       "    <tr>\n",
       "      <th>64852</th>\n",
       "      <td>The Tragedy of Hamlet Prince of Denmark</td>\n",
       "      <td>2007</td>\n",
       "    </tr>\n",
       "    <tr>\n",
       "      <th>217918</th>\n",
       "      <td>Hamlet (III)</td>\n",
       "      <td>2007</td>\n",
       "    </tr>\n",
       "    <tr>\n",
       "      <th>162869</th>\n",
       "      <td>Hamlet (II)</td>\n",
       "      <td>2007</td>\n",
       "    </tr>\n",
       "    <tr>\n",
       "      <th>5449</th>\n",
       "      <td>Hamlet 2</td>\n",
       "      <td>2008</td>\n",
       "    </tr>\n",
       "    <tr>\n",
       "      <th>225277</th>\n",
       "      <td>Hamlet the Vampire Slayer</td>\n",
       "      <td>2008</td>\n",
       "    </tr>\n",
       "    <tr>\n",
       "      <th>25028</th>\n",
       "      <td>Hamlet</td>\n",
       "      <td>2009</td>\n",
       "    </tr>\n",
       "    <tr>\n",
       "      <th>147131</th>\n",
       "      <td>Kitchen Hamlet</td>\n",
       "      <td>2009</td>\n",
       "    </tr>\n",
       "    <tr>\n",
       "      <th>86523</th>\n",
       "      <td>Hamlet Demonstration</td>\n",
       "      <td>2011</td>\n",
       "    </tr>\n",
       "    <tr>\n",
       "      <th>137240</th>\n",
       "      <td>Hamlet</td>\n",
       "      <td>2011</td>\n",
       "    </tr>\n",
       "    <tr>\n",
       "      <th>129241</th>\n",
       "      <td>Zombie Hamlet</td>\n",
       "      <td>2012</td>\n",
       "    </tr>\n",
       "    <tr>\n",
       "      <th>192154</th>\n",
       "      <td>Hamlet Unbound</td>\n",
       "      <td>2012</td>\n",
       "    </tr>\n",
       "    <tr>\n",
       "      <th>164727</th>\n",
       "      <td>Harry, Hamlet and I</td>\n",
       "      <td>2013</td>\n",
       "    </tr>\n",
       "    <tr>\n",
       "      <th>118331</th>\n",
       "      <td>Hamlet</td>\n",
       "      <td>2014</td>\n",
       "    </tr>\n",
       "    <tr>\n",
       "      <th>18832</th>\n",
       "      <td>Hamlet A.D.D.</td>\n",
       "      <td>2014</td>\n",
       "    </tr>\n",
       "    <tr>\n",
       "      <th>10518</th>\n",
       "      <td>Hamlet's Ghost</td>\n",
       "      <td>2015</td>\n",
       "    </tr>\n",
       "    <tr>\n",
       "      <th>209296</th>\n",
       "      <td>Hamlet, Son of a Kingpin</td>\n",
       "      <td>2015</td>\n",
       "    </tr>\n",
       "    <tr>\n",
       "      <th>109822</th>\n",
       "      <td>Hamlet</td>\n",
       "      <td>2015</td>\n",
       "    </tr>\n",
       "    <tr>\n",
       "      <th>148326</th>\n",
       "      <td>National Theatre Live: Hamlet</td>\n",
       "      <td>2015</td>\n",
       "    </tr>\n",
       "    <tr>\n",
       "      <th>124281</th>\n",
       "      <td>Hamlet (II)</td>\n",
       "      <td>2015</td>\n",
       "    </tr>\n",
       "    <tr>\n",
       "      <th>219196</th>\n",
       "      <td>Royal Shakespeare Company: Hamlet</td>\n",
       "      <td>2016</td>\n",
       "    </tr>\n",
       "    <tr>\n",
       "      <th>186870</th>\n",
       "      <td>Hamlet</td>\n",
       "      <td>2016</td>\n",
       "    </tr>\n",
       "    <tr>\n",
       "      <th>77199</th>\n",
       "      <td>Hamlet (II)</td>\n",
       "      <td>2017</td>\n",
       "    </tr>\n",
       "    <tr>\n",
       "      <th>143179</th>\n",
       "      <td>Hamlet/Horatio</td>\n",
       "      <td>2017</td>\n",
       "    </tr>\n",
       "    <tr>\n",
       "      <th>207463</th>\n",
       "      <td>Hamlet in the Golden Vale</td>\n",
       "      <td>2017</td>\n",
       "    </tr>\n",
       "    <tr>\n",
       "      <th>208380</th>\n",
       "      <td>Hamlet</td>\n",
       "      <td>2017</td>\n",
       "    </tr>\n",
       "    <tr>\n",
       "      <th>202555</th>\n",
       "      <td>Hamlet: The Fall of a Sparrow</td>\n",
       "      <td>2018</td>\n",
       "    </tr>\n",
       "  </tbody>\n",
       "</table>\n",
       "</div>"
      ],
      "text/plain": [
       "                                          title  year\n",
       "79939                                    Hamlet  1910\n",
       "129673                                   Hamlet  1911\n",
       "164637                                   Hamlet  1913\n",
       "150955                       A Sagebrush Hamlet  1919\n",
       "221419                                   Hamlet  1921\n",
       "54760                        Han, hun og Hamlet  1922\n",
       "161129                       Han, hun og Hamlet  1932\n",
       "221201                                   Hamlet  1948\n",
       "220568                                   Hamlet  1954\n",
       "132525                              Hamlet (II)  1964\n",
       "113670                                   Hamlet  1964\n",
       "73929                                    Hamlet  1969\n",
       "204180                                   Hamlet  1973\n",
       "93945       Predstava 'Hamleta' u Mrdusi Donjoj  1974\n",
       "64116                                    Hamlet  1976\n",
       "21870               Intikam Melegi/Kadin Hamlet  1976\n",
       "121873                   Hamlet liikemaailmassa  1987\n",
       "144085                                   Hamlet  1987\n",
       "46606                 Hamlet: Prince of Denmark  1989\n",
       "174856                                   Hamlet  1990\n",
       "156416                             H for Hamlet  1993\n",
       "37189                     Green Eggs and Hamlet  1995\n",
       "144430                              Fuck Hamlet  1996\n",
       "213476                                   Hamlet  1996\n",
       "212010                Hamlet, Prince of Denmark  1997\n",
       "141682                                   Hamlet  2000\n",
       "65095                    Hamlet in the Hamptons  2002\n",
       "118867                                 Hamlet X  2004\n",
       "59877           Dogg's Hamlet, Cahoot's Macbeth  2005\n",
       "64852   The Tragedy of Hamlet Prince of Denmark  2007\n",
       "217918                             Hamlet (III)  2007\n",
       "162869                              Hamlet (II)  2007\n",
       "5449                                   Hamlet 2  2008\n",
       "225277                Hamlet the Vampire Slayer  2008\n",
       "25028                                    Hamlet  2009\n",
       "147131                           Kitchen Hamlet  2009\n",
       "86523                      Hamlet Demonstration  2011\n",
       "137240                                   Hamlet  2011\n",
       "129241                            Zombie Hamlet  2012\n",
       "192154                           Hamlet Unbound  2012\n",
       "164727                      Harry, Hamlet and I  2013\n",
       "118331                                   Hamlet  2014\n",
       "18832                             Hamlet A.D.D.  2014\n",
       "10518                            Hamlet's Ghost  2015\n",
       "209296                 Hamlet, Son of a Kingpin  2015\n",
       "109822                                   Hamlet  2015\n",
       "148326            National Theatre Live: Hamlet  2015\n",
       "124281                              Hamlet (II)  2015\n",
       "219196        Royal Shakespeare Company: Hamlet  2016\n",
       "186870                                   Hamlet  2016\n",
       "77199                               Hamlet (II)  2017\n",
       "143179                           Hamlet/Horatio  2017\n",
       "207463                Hamlet in the Golden Vale  2017\n",
       "208380                                   Hamlet  2017\n",
       "202555            Hamlet: The Fall of a Sparrow  2018"
      ]
     },
     "execution_count": 18,
     "metadata": {},
     "output_type": "execute_result"
    }
   ],
   "source": [
    "titles[titles.title.str.contains('Hamlet', na = False)].sort_values(by='year')"
   ]
  },
  {
   "cell_type": "markdown",
   "id": "5650b610",
   "metadata": {},
   "source": [
    "### 4. List all the movies called Treasure Island from oldest to newest"
   ]
  },
  {
   "cell_type": "markdown",
   "id": "ccbd173a-378b-4ba6-af41-cb28d553737c",
   "metadata": {},
   "source": [
    "All of the movies called \"Treasure Island\" with the oldest being made in 1918 and the most recent being made in 2015"
   ]
  },
  {
   "cell_type": "code",
   "execution_count": 21,
   "id": "636611d9",
   "metadata": {},
   "outputs": [
    {
     "data": {
      "text/html": [
       "<div>\n",
       "<style scoped>\n",
       "    .dataframe tbody tr th:only-of-type {\n",
       "        vertical-align: middle;\n",
       "    }\n",
       "\n",
       "    .dataframe tbody tr th {\n",
       "        vertical-align: top;\n",
       "    }\n",
       "\n",
       "    .dataframe thead th {\n",
       "        text-align: right;\n",
       "    }\n",
       "</style>\n",
       "<table border=\"1\" class=\"dataframe\">\n",
       "  <thead>\n",
       "    <tr style=\"text-align: right;\">\n",
       "      <th></th>\n",
       "      <th>title</th>\n",
       "      <th>year</th>\n",
       "    </tr>\n",
       "  </thead>\n",
       "  <tbody>\n",
       "    <tr>\n",
       "      <th>180911</th>\n",
       "      <td>Treasure Island</td>\n",
       "      <td>1918</td>\n",
       "    </tr>\n",
       "    <tr>\n",
       "      <th>108853</th>\n",
       "      <td>Treasure Island</td>\n",
       "      <td>1920</td>\n",
       "    </tr>\n",
       "    <tr>\n",
       "      <th>87953</th>\n",
       "      <td>Treasure Island</td>\n",
       "      <td>1934</td>\n",
       "    </tr>\n",
       "    <tr>\n",
       "      <th>5854</th>\n",
       "      <td>The Secret of Treasure Island</td>\n",
       "      <td>1938</td>\n",
       "    </tr>\n",
       "    <tr>\n",
       "      <th>126321</th>\n",
       "      <td>Treasure Island</td>\n",
       "      <td>1950</td>\n",
       "    </tr>\n",
       "    <tr>\n",
       "      <th>8382</th>\n",
       "      <td>Return to Treasure Island</td>\n",
       "      <td>1954</td>\n",
       "    </tr>\n",
       "    <tr>\n",
       "      <th>26147</th>\n",
       "      <td>Five on a Treasure Island</td>\n",
       "      <td>1957</td>\n",
       "    </tr>\n",
       "    <tr>\n",
       "      <th>190233</th>\n",
       "      <td>Treasure Island</td>\n",
       "      <td>1972</td>\n",
       "    </tr>\n",
       "    <tr>\n",
       "      <th>122150</th>\n",
       "      <td>Treasure Island</td>\n",
       "      <td>1973</td>\n",
       "    </tr>\n",
       "    <tr>\n",
       "      <th>52099</th>\n",
       "      <td>Treasure Island</td>\n",
       "      <td>1985</td>\n",
       "    </tr>\n",
       "    <tr>\n",
       "      <th>188775</th>\n",
       "      <td>Muppet Treasure Island</td>\n",
       "      <td>1996</td>\n",
       "    </tr>\n",
       "    <tr>\n",
       "      <th>27633</th>\n",
       "      <td>Treasure Island (II)</td>\n",
       "      <td>1999</td>\n",
       "    </tr>\n",
       "    <tr>\n",
       "      <th>36752</th>\n",
       "      <td>Treasure Island</td>\n",
       "      <td>1999</td>\n",
       "    </tr>\n",
       "    <tr>\n",
       "      <th>14019</th>\n",
       "      <td>Treasure Island Kids: The Mystery of Treasure ...</td>\n",
       "      <td>2006</td>\n",
       "    </tr>\n",
       "    <tr>\n",
       "      <th>11035</th>\n",
       "      <td>Pirates of Treasure Island</td>\n",
       "      <td>2006</td>\n",
       "    </tr>\n",
       "    <tr>\n",
       "      <th>7666</th>\n",
       "      <td>Treasure Island Kids: The Battle of Treasure I...</td>\n",
       "      <td>2006</td>\n",
       "    </tr>\n",
       "    <tr>\n",
       "      <th>202801</th>\n",
       "      <td>Treasure Island Kids: The Monster of Treasure ...</td>\n",
       "      <td>2006</td>\n",
       "    </tr>\n",
       "    <tr>\n",
       "      <th>160062</th>\n",
       "      <td>National Theatre Live: Treasure Island</td>\n",
       "      <td>2015</td>\n",
       "    </tr>\n",
       "  </tbody>\n",
       "</table>\n",
       "</div>"
      ],
      "text/plain": [
       "                                                    title  year\n",
       "180911                                    Treasure Island  1918\n",
       "108853                                    Treasure Island  1920\n",
       "87953                                     Treasure Island  1934\n",
       "5854                        The Secret of Treasure Island  1938\n",
       "126321                                    Treasure Island  1950\n",
       "8382                            Return to Treasure Island  1954\n",
       "26147                           Five on a Treasure Island  1957\n",
       "190233                                    Treasure Island  1972\n",
       "122150                                    Treasure Island  1973\n",
       "52099                                     Treasure Island  1985\n",
       "188775                             Muppet Treasure Island  1996\n",
       "27633                                Treasure Island (II)  1999\n",
       "36752                                     Treasure Island  1999\n",
       "14019   Treasure Island Kids: The Mystery of Treasure ...  2006\n",
       "11035                          Pirates of Treasure Island  2006\n",
       "7666    Treasure Island Kids: The Battle of Treasure I...  2006\n",
       "202801  Treasure Island Kids: The Monster of Treasure ...  2006\n",
       "160062             National Theatre Live: Treasure Island  2015"
      ]
     },
     "execution_count": 21,
     "metadata": {},
     "output_type": "execute_result"
    }
   ],
   "source": [
    "titles[titles.title.str.contains('Treasure Island', na = False)].sort_values(by='year')"
   ]
  },
  {
   "cell_type": "markdown",
   "id": "a94f4524",
   "metadata": {},
   "source": [
    "### 5. How many movies were made in 1950? 1980? 2000? What conclusions can you draw from these data points?"
   ]
  },
  {
   "cell_type": "markdown",
   "id": "f44d2ed8-e714-463c-a960-f86d68239b98",
   "metadata": {},
   "source": [
    "In 1950 there were 1,109 movies made, in 1980 1,750 movies were made, and in 2000 2,568 movies made.  Between the 1950's and 2000's the amount of movies has doubled.  I think this can be attributed to an increase in disposable income and technology.  Disposable income will increase the demand for entertainment like movies, thus more movies were made.  The increase in technology could make movies easier / less expensive to make as well as allowed them to continue to generate revenue once out of the box office.  In the decades we're looking at it would most likely be VHS and DVD's, but in later years it would be streaming services and on demand rentals.  Movies and cinema are an artform, but they are also a business.  By having an increase in demand new movies were made to keep up with the appetite for entertainment.  "
   ]
  },
  {
   "cell_type": "code",
   "execution_count": 24,
   "id": "8d44bdb2",
   "metadata": {},
   "outputs": [
    {
     "data": {
      "text/plain": [
       "<bound method Series.count of 47                         Vendetta\n",
       "62            The Invisible Monster\n",
       "171           El pecado de quererte\n",
       "432                Battling Marshal\n",
       "507       Fortunes of Captain Blood\n",
       "                    ...            \n",
       "224785                     Doctor X\n",
       "224865                     Rupkatha\n",
       "224879               Xin cha hua nu\n",
       "225382           The Kid from Texas\n",
       "225908             Beauty on Parade\n",
       "Name: title, Length: 1109, dtype: object>"
      ]
     },
     "execution_count": 24,
     "metadata": {},
     "output_type": "execute_result"
    }
   ],
   "source": [
    "titles[(titles.year ==1950)][\"title\"].count"
   ]
  },
  {
   "cell_type": "code",
   "execution_count": 25,
   "id": "b2558062-67e0-45d8-ade3-1c7cdd5472c2",
   "metadata": {},
   "outputs": [
    {
     "data": {
      "text/plain": [
       "<bound method Series.count of 20                     Fico d'India\n",
       "21                  Insaf Ka Tarazu\n",
       "72                     Xiang ye ren\n",
       "144                     Alibha Daga\n",
       "249          Ang leon at ang kuting\n",
       "                    ...            \n",
       "225661    A Woman of Good Character\n",
       "225771                 Pile ou face\n",
       "225856        Fantozzi contro tutti\n",
       "225901             Nan bei tui wang\n",
       "225985              Prema Tarangalu\n",
       "Name: title, Length: 1750, dtype: object>"
      ]
     },
     "execution_count": 25,
     "metadata": {},
     "output_type": "execute_result"
    }
   ],
   "source": [
    "titles[(titles.year ==1980)][\"title\"].count"
   ]
  },
  {
   "cell_type": "code",
   "execution_count": 26,
   "id": "0c6e11a9-2cd4-44f4-8894-c888656d95be",
   "metadata": {},
   "outputs": [
    {
     "data": {
      "text/plain": [
       "<bound method Series.count of 5               Ostatnia misja\n",
       "33               Cesta z mesta\n",
       "66            2000 + 1 stigmes\n",
       "116         It Was an Accident\n",
       "439       Motevalede mahe mehr\n",
       "                  ...         \n",
       "225743      Le sourire d'Alice\n",
       "225853        La jiao jiao shi\n",
       "225870          Vamsodharakudu\n",
       "225926            Foll Al-Foll\n",
       "225932             My Dog Skip\n",
       "Name: title, Length: 2568, dtype: object>"
      ]
     },
     "execution_count": 26,
     "metadata": {},
     "output_type": "execute_result"
    }
   ],
   "source": [
    "titles[(titles.year ==2000)][\"title\"].count"
   ]
  },
  {
   "cell_type": "markdown",
   "id": "0c34799c",
   "metadata": {},
   "source": [
    "### 6. How big was the cast of Metropolis\n"
   ]
  },
  {
   "cell_type": "markdown",
   "id": "a82c26dc-255c-4b73-a1fc-fb0ac4da823e",
   "metadata": {},
   "source": [
    "The cast for the 1927's \"Metropolis\" consisted of 33 cast memebers, but the majority of them didn't have a bill number with only 9 out of the 33 having a bill number. "
   ]
  },
  {
   "cell_type": "code",
   "execution_count": 29,
   "id": "4461cc46",
   "metadata": {},
   "outputs": [
    {
     "name": "stdout",
     "output_type": "stream",
     "text": [
      "title        33\n",
      "year         33\n",
      "name         33\n",
      "type         33\n",
      "character    33\n",
      "n             9\n",
      "dtype: int64\n"
     ]
    },
    {
     "data": {
      "text/html": [
       "<div>\n",
       "<style scoped>\n",
       "    .dataframe tbody tr th:only-of-type {\n",
       "        vertical-align: middle;\n",
       "    }\n",
       "\n",
       "    .dataframe tbody tr th {\n",
       "        vertical-align: top;\n",
       "    }\n",
       "\n",
       "    .dataframe thead th {\n",
       "        text-align: right;\n",
       "    }\n",
       "</style>\n",
       "<table border=\"1\" class=\"dataframe\">\n",
       "  <thead>\n",
       "    <tr style=\"text-align: right;\">\n",
       "      <th></th>\n",
       "      <th>title</th>\n",
       "      <th>year</th>\n",
       "      <th>name</th>\n",
       "      <th>type</th>\n",
       "      <th>character</th>\n",
       "      <th>n</th>\n",
       "    </tr>\n",
       "  </thead>\n",
       "  <tbody>\n",
       "    <tr>\n",
       "      <th>3416</th>\n",
       "      <td>Metropolis</td>\n",
       "      <td>1927</td>\n",
       "      <td>Alfred Abel</td>\n",
       "      <td>actor</td>\n",
       "      <td>Joh Fredersen</td>\n",
       "      <td>1.0</td>\n",
       "    </tr>\n",
       "    <tr>\n",
       "      <th>26389</th>\n",
       "      <td>Metropolis</td>\n",
       "      <td>1927</td>\n",
       "      <td>Fritz Alberti</td>\n",
       "      <td>actor</td>\n",
       "      <td>Creative Human - Man who Convinces Babel</td>\n",
       "      <td>NaN</td>\n",
       "    </tr>\n",
       "    <tr>\n",
       "      <th>193089</th>\n",
       "      <td>Metropolis</td>\n",
       "      <td>1927</td>\n",
       "      <td>Erwin Biswanger</td>\n",
       "      <td>actor</td>\n",
       "      <td>11811 - Georgy</td>\n",
       "      <td>6.0</td>\n",
       "    </tr>\n",
       "    <tr>\n",
       "      <th>542995</th>\n",
       "      <td>Metropolis</td>\n",
       "      <td>1927</td>\n",
       "      <td>Max Dietze</td>\n",
       "      <td>actor</td>\n",
       "      <td>Working Man</td>\n",
       "      <td>NaN</td>\n",
       "    </tr>\n",
       "    <tr>\n",
       "      <th>709318</th>\n",
       "      <td>Metropolis</td>\n",
       "      <td>1927</td>\n",
       "      <td>Gustav Fröhlich</td>\n",
       "      <td>actor</td>\n",
       "      <td>Freder - Joh Fredersen's Son</td>\n",
       "      <td>2.0</td>\n",
       "    </tr>\n",
       "    <tr>\n",
       "      <th>747304</th>\n",
       "      <td>Metropolis</td>\n",
       "      <td>1927</td>\n",
       "      <td>Heinrich George</td>\n",
       "      <td>actor</td>\n",
       "      <td>Grot - the Guardian of the Heart Machine</td>\n",
       "      <td>7.0</td>\n",
       "    </tr>\n",
       "    <tr>\n",
       "      <th>789295</th>\n",
       "      <td>Metropolis</td>\n",
       "      <td>1927</td>\n",
       "      <td>Heinrich Gotho</td>\n",
       "      <td>actor</td>\n",
       "      <td>Master of Ceremonies</td>\n",
       "      <td>NaN</td>\n",
       "    </tr>\n",
       "    <tr>\n",
       "      <th>1015520</th>\n",
       "      <td>Metropolis</td>\n",
       "      <td>1927</td>\n",
       "      <td>Georg John</td>\n",
       "      <td>actor</td>\n",
       "      <td>Working Man Who Causes Explosion of M-Machine</td>\n",
       "      <td>NaN</td>\n",
       "    </tr>\n",
       "    <tr>\n",
       "      <th>1110313</th>\n",
       "      <td>Metropolis</td>\n",
       "      <td>1927</td>\n",
       "      <td>Rudolf Klein-Rogge</td>\n",
       "      <td>actor</td>\n",
       "      <td>C.A. Rotwang - the Inventor</td>\n",
       "      <td>3.0</td>\n",
       "    </tr>\n",
       "    <tr>\n",
       "      <th>1141892</th>\n",
       "      <td>Metropolis</td>\n",
       "      <td>1927</td>\n",
       "      <td>Walter Kuehle</td>\n",
       "      <td>actor</td>\n",
       "      <td>Working Man</td>\n",
       "      <td>NaN</td>\n",
       "    </tr>\n",
       "    <tr>\n",
       "      <th>1246757</th>\n",
       "      <td>Metropolis</td>\n",
       "      <td>1927</td>\n",
       "      <td>Theodor Loos</td>\n",
       "      <td>actor</td>\n",
       "      <td>Josaphat</td>\n",
       "      <td>5.0</td>\n",
       "    </tr>\n",
       "    <tr>\n",
       "      <th>1719286</th>\n",
       "      <td>Metropolis</td>\n",
       "      <td>1927</td>\n",
       "      <td>Fritz Rasp</td>\n",
       "      <td>actor</td>\n",
       "      <td>The Thin Man</td>\n",
       "      <td>4.0</td>\n",
       "    </tr>\n",
       "    <tr>\n",
       "      <th>1734020</th>\n",
       "      <td>Metropolis</td>\n",
       "      <td>1927</td>\n",
       "      <td>Hanns Leo Reich</td>\n",
       "      <td>actor</td>\n",
       "      <td>Marinus</td>\n",
       "      <td>NaN</td>\n",
       "    </tr>\n",
       "    <tr>\n",
       "      <th>1736598</th>\n",
       "      <td>Metropolis</td>\n",
       "      <td>1927</td>\n",
       "      <td>Arthur Reinhardt</td>\n",
       "      <td>actor</td>\n",
       "      <td>Working Man</td>\n",
       "      <td>NaN</td>\n",
       "    </tr>\n",
       "    <tr>\n",
       "      <th>1935963</th>\n",
       "      <td>Metropolis</td>\n",
       "      <td>1927</td>\n",
       "      <td>Curt Siodmak</td>\n",
       "      <td>actor</td>\n",
       "      <td>Working Man</td>\n",
       "      <td>NaN</td>\n",
       "    </tr>\n",
       "    <tr>\n",
       "      <th>2006109</th>\n",
       "      <td>Metropolis</td>\n",
       "      <td>1927</td>\n",
       "      <td>Olaf Storm</td>\n",
       "      <td>actor</td>\n",
       "      <td>Jan</td>\n",
       "      <td>NaN</td>\n",
       "    </tr>\n",
       "    <tr>\n",
       "      <th>2145535</th>\n",
       "      <td>Metropolis</td>\n",
       "      <td>1927</td>\n",
       "      <td>Erwin Vater</td>\n",
       "      <td>actor</td>\n",
       "      <td>Working Man</td>\n",
       "      <td>NaN</td>\n",
       "    </tr>\n",
       "    <tr>\n",
       "      <th>2172908</th>\n",
       "      <td>Metropolis</td>\n",
       "      <td>1927</td>\n",
       "      <td>Rolf von Goth</td>\n",
       "      <td>actor</td>\n",
       "      <td>Son in Eternal Gardens</td>\n",
       "      <td>NaN</td>\n",
       "    </tr>\n",
       "    <tr>\n",
       "      <th>2402830</th>\n",
       "      <td>Metropolis</td>\n",
       "      <td>1927</td>\n",
       "      <td>Grete Berger</td>\n",
       "      <td>actress</td>\n",
       "      <td>Working Woman</td>\n",
       "      <td>NaN</td>\n",
       "    </tr>\n",
       "    <tr>\n",
       "      <th>2422158</th>\n",
       "      <td>Metropolis</td>\n",
       "      <td>1927</td>\n",
       "      <td>Olly Boeheim</td>\n",
       "      <td>actress</td>\n",
       "      <td>Working Woman</td>\n",
       "      <td>NaN</td>\n",
       "    </tr>\n",
       "    <tr>\n",
       "      <th>2658590</th>\n",
       "      <td>Metropolis</td>\n",
       "      <td>1927</td>\n",
       "      <td>Ellen Frey</td>\n",
       "      <td>actress</td>\n",
       "      <td>Working Woman</td>\n",
       "      <td>NaN</td>\n",
       "    </tr>\n",
       "    <tr>\n",
       "      <th>2672124</th>\n",
       "      <td>Metropolis</td>\n",
       "      <td>1927</td>\n",
       "      <td>Beatrice Garga</td>\n",
       "      <td>actress</td>\n",
       "      <td>Woman of Eternal Gardens</td>\n",
       "      <td>NaN</td>\n",
       "    </tr>\n",
       "    <tr>\n",
       "      <th>2709135</th>\n",
       "      <td>Metropolis</td>\n",
       "      <td>1927</td>\n",
       "      <td>Dolly Grey</td>\n",
       "      <td>actress</td>\n",
       "      <td>Working Woman</td>\n",
       "      <td>NaN</td>\n",
       "    </tr>\n",
       "    <tr>\n",
       "      <th>2748716</th>\n",
       "      <td>Metropolis</td>\n",
       "      <td>1927</td>\n",
       "      <td>Brigitte Helm</td>\n",
       "      <td>actress</td>\n",
       "      <td>The Machine Man</td>\n",
       "      <td>8.0</td>\n",
       "    </tr>\n",
       "    <tr>\n",
       "      <th>2748717</th>\n",
       "      <td>Metropolis</td>\n",
       "      <td>1927</td>\n",
       "      <td>Brigitte Helm</td>\n",
       "      <td>actress</td>\n",
       "      <td>Maria</td>\n",
       "      <td>8.0</td>\n",
       "    </tr>\n",
       "    <tr>\n",
       "      <th>2759815</th>\n",
       "      <td>Metropolis</td>\n",
       "      <td>1927</td>\n",
       "      <td>Anny Hintze</td>\n",
       "      <td>actress</td>\n",
       "      <td>Woman of Eternal Gardens</td>\n",
       "      <td>NaN</td>\n",
       "    </tr>\n",
       "    <tr>\n",
       "      <th>2881041</th>\n",
       "      <td>Metropolis</td>\n",
       "      <td>1927</td>\n",
       "      <td>Margarete Lanner</td>\n",
       "      <td>actress</td>\n",
       "      <td>Lady in Car</td>\n",
       "      <td>NaN</td>\n",
       "    </tr>\n",
       "    <tr>\n",
       "      <th>2881042</th>\n",
       "      <td>Metropolis</td>\n",
       "      <td>1927</td>\n",
       "      <td>Margarete Lanner</td>\n",
       "      <td>actress</td>\n",
       "      <td>Woman of Eternal Gardens</td>\n",
       "      <td>NaN</td>\n",
       "    </tr>\n",
       "    <tr>\n",
       "      <th>2908248</th>\n",
       "      <td>Metropolis</td>\n",
       "      <td>1927</td>\n",
       "      <td>Rose Lichtenstein</td>\n",
       "      <td>actress</td>\n",
       "      <td>Working Woman</td>\n",
       "      <td>NaN</td>\n",
       "    </tr>\n",
       "    <tr>\n",
       "      <th>3256276</th>\n",
       "      <td>Metropolis</td>\n",
       "      <td>1927</td>\n",
       "      <td>Henrietta Siodmak</td>\n",
       "      <td>actress</td>\n",
       "      <td>Working Woman</td>\n",
       "      <td>NaN</td>\n",
       "    </tr>\n",
       "    <tr>\n",
       "      <th>3373844</th>\n",
       "      <td>Metropolis</td>\n",
       "      <td>1927</td>\n",
       "      <td>Helen von Münchofen</td>\n",
       "      <td>actress</td>\n",
       "      <td>Woman of Eternal Gardens</td>\n",
       "      <td>NaN</td>\n",
       "    </tr>\n",
       "    <tr>\n",
       "      <th>3391926</th>\n",
       "      <td>Metropolis</td>\n",
       "      <td>1927</td>\n",
       "      <td>Helene Weigel</td>\n",
       "      <td>actress</td>\n",
       "      <td>Working Woman</td>\n",
       "      <td>NaN</td>\n",
       "    </tr>\n",
       "    <tr>\n",
       "      <th>3413805</th>\n",
       "      <td>Metropolis</td>\n",
       "      <td>1927</td>\n",
       "      <td>Hilde Woitscheff</td>\n",
       "      <td>actress</td>\n",
       "      <td>Woman of Eternal Gardens</td>\n",
       "      <td>NaN</td>\n",
       "    </tr>\n",
       "  </tbody>\n",
       "</table>\n",
       "</div>"
      ],
      "text/plain": [
       "              title  year                 name     type  \\\n",
       "3416     Metropolis  1927          Alfred Abel    actor   \n",
       "26389    Metropolis  1927        Fritz Alberti    actor   \n",
       "193089   Metropolis  1927      Erwin Biswanger    actor   \n",
       "542995   Metropolis  1927           Max Dietze    actor   \n",
       "709318   Metropolis  1927      Gustav Fröhlich    actor   \n",
       "747304   Metropolis  1927      Heinrich George    actor   \n",
       "789295   Metropolis  1927       Heinrich Gotho    actor   \n",
       "1015520  Metropolis  1927           Georg John    actor   \n",
       "1110313  Metropolis  1927   Rudolf Klein-Rogge    actor   \n",
       "1141892  Metropolis  1927        Walter Kuehle    actor   \n",
       "1246757  Metropolis  1927         Theodor Loos    actor   \n",
       "1719286  Metropolis  1927           Fritz Rasp    actor   \n",
       "1734020  Metropolis  1927      Hanns Leo Reich    actor   \n",
       "1736598  Metropolis  1927     Arthur Reinhardt    actor   \n",
       "1935963  Metropolis  1927         Curt Siodmak    actor   \n",
       "2006109  Metropolis  1927           Olaf Storm    actor   \n",
       "2145535  Metropolis  1927          Erwin Vater    actor   \n",
       "2172908  Metropolis  1927        Rolf von Goth    actor   \n",
       "2402830  Metropolis  1927         Grete Berger  actress   \n",
       "2422158  Metropolis  1927         Olly Boeheim  actress   \n",
       "2658590  Metropolis  1927           Ellen Frey  actress   \n",
       "2672124  Metropolis  1927       Beatrice Garga  actress   \n",
       "2709135  Metropolis  1927           Dolly Grey  actress   \n",
       "2748716  Metropolis  1927        Brigitte Helm  actress   \n",
       "2748717  Metropolis  1927        Brigitte Helm  actress   \n",
       "2759815  Metropolis  1927          Anny Hintze  actress   \n",
       "2881041  Metropolis  1927     Margarete Lanner  actress   \n",
       "2881042  Metropolis  1927     Margarete Lanner  actress   \n",
       "2908248  Metropolis  1927    Rose Lichtenstein  actress   \n",
       "3256276  Metropolis  1927    Henrietta Siodmak  actress   \n",
       "3373844  Metropolis  1927  Helen von Münchofen  actress   \n",
       "3391926  Metropolis  1927        Helene Weigel  actress   \n",
       "3413805  Metropolis  1927     Hilde Woitscheff  actress   \n",
       "\n",
       "                                             character    n  \n",
       "3416                                     Joh Fredersen  1.0  \n",
       "26389         Creative Human - Man who Convinces Babel  NaN  \n",
       "193089                                  11811 - Georgy  6.0  \n",
       "542995                                     Working Man  NaN  \n",
       "709318                    Freder - Joh Fredersen's Son  2.0  \n",
       "747304        Grot - the Guardian of the Heart Machine  7.0  \n",
       "789295                            Master of Ceremonies  NaN  \n",
       "1015520  Working Man Who Causes Explosion of M-Machine  NaN  \n",
       "1110313                    C.A. Rotwang - the Inventor  3.0  \n",
       "1141892                                    Working Man  NaN  \n",
       "1246757                                       Josaphat  5.0  \n",
       "1719286                                   The Thin Man  4.0  \n",
       "1734020                                        Marinus  NaN  \n",
       "1736598                                    Working Man  NaN  \n",
       "1935963                                    Working Man  NaN  \n",
       "2006109                                            Jan  NaN  \n",
       "2145535                                    Working Man  NaN  \n",
       "2172908                         Son in Eternal Gardens  NaN  \n",
       "2402830                                  Working Woman  NaN  \n",
       "2422158                                  Working Woman  NaN  \n",
       "2658590                                  Working Woman  NaN  \n",
       "2672124                       Woman of Eternal Gardens  NaN  \n",
       "2709135                                  Working Woman  NaN  \n",
       "2748716                                The Machine Man  8.0  \n",
       "2748717                                          Maria  8.0  \n",
       "2759815                       Woman of Eternal Gardens  NaN  \n",
       "2881041                                    Lady in Car  NaN  \n",
       "2881042                       Woman of Eternal Gardens  NaN  \n",
       "2908248                                  Working Woman  NaN  \n",
       "3256276                                  Working Woman  NaN  \n",
       "3373844                       Woman of Eternal Gardens  NaN  \n",
       "3391926                                  Working Woman  NaN  \n",
       "3413805                       Woman of Eternal Gardens  NaN  "
      ]
     },
     "execution_count": 29,
     "metadata": {},
     "output_type": "execute_result"
    }
   ],
   "source": [
    "print(cast[cast['title'] == \"Metropolis\"].count())\n",
    "cast[cast['title'] == \"Metropolis\"]"
   ]
  },
  {
   "cell_type": "markdown",
   "id": "7dead3d7",
   "metadata": {},
   "source": [
    "### 7. How many roles for actors were there 1950's? 1990's"
   ]
  },
  {
   "cell_type": "markdown",
   "id": "544bb88d-f394-4554-b3e1-7eaecca92d39",
   "metadata": {},
   "source": [
    "In the 1950's there were 90,603 roles for actors and in the 1990's there were 134,449 roles.  In the 1950's the most popular character was a townsman, while in the 1990's it was people making cameos playing themself."
   ]
  },
  {
   "cell_type": "code",
   "execution_count": 32,
   "id": "9f7336d3",
   "metadata": {},
   "outputs": [
    {
     "name": "stdout",
     "output_type": "stream",
     "text": [
      "character\n",
      "Townsman      1869\n",
      "Minor Role    1292\n",
      "Extra          896\n",
      "Barfly         703\n",
      "Reporter       702\n",
      "Name: count, dtype: int64\n"
     ]
    },
    {
     "data": {
      "text/plain": [
       "character\n",
       "Townsman             1869\n",
       "Minor Role           1292\n",
       "Extra                 896\n",
       "Barfly                703\n",
       "Reporter              702\n",
       "                     ... \n",
       "Walker's Deputy         1\n",
       "Police Desk Clerk       1\n",
       "Scud                    1\n",
       "Tommy Alexander         1\n",
       "Kara Efe                1\n",
       "Name: count, Length: 90603, dtype: int64"
      ]
     },
     "execution_count": 32,
     "metadata": {},
     "output_type": "execute_result"
    }
   ],
   "source": [
    "print(cast[(cast.year >= 1950)&(cast.year<=1959)&(cast.type == \"actor\")][\"character\"].value_counts().head())\n",
    "cast[(cast.year >= 1950)&(cast.year<=1959)&(cast.type == \"actor\")][\"character\"].value_counts()"
   ]
  },
  {
   "cell_type": "code",
   "execution_count": 33,
   "id": "c294326e-9c7f-4f90-b0f7-d97e234674ac",
   "metadata": {},
   "outputs": [
    {
     "name": "stdout",
     "output_type": "stream",
     "text": [
      "character\n",
      "Himself      1848\n",
      "Policeman     920\n",
      "Doctor        649\n",
      "Bartender     606\n",
      "Reporter      528\n",
      "Name: count, dtype: int64\n"
     ]
    },
    {
     "data": {
      "text/plain": [
       "character\n",
       "Himself                       1848\n",
       "Policeman                      920\n",
       "Doctor                         649\n",
       "Bartender                      606\n",
       "Reporter                       528\n",
       "                              ... \n",
       "Kaniya                           1\n",
       "Natwar Shah                      1\n",
       "Gulshan (cameo)                  1\n",
       "Chhote Thakur Madhav Singh       1\n",
       "Jónas                            1\n",
       "Name: count, Length: 134449, dtype: int64"
      ]
     },
     "execution_count": 33,
     "metadata": {},
     "output_type": "execute_result"
    }
   ],
   "source": [
    "print(cast[(cast.year >= 1990)&(cast.year<=1999)&(cast.type == \"actor\")][\"character\"].value_counts().head())\n",
    "cast[(cast.year >= 1990)&(cast.year<=1999)&(cast.type == \"actor\")][\"character\"].value_counts()"
   ]
  },
  {
   "cell_type": "markdown",
   "id": "3c5ad9f2",
   "metadata": {},
   "source": [
    "### 8. How many roles for actors & actresses over time? Output should be a line graph"
   ]
  },
  {
   "cell_type": "markdown",
   "id": "d5556c63-33c7-4ea6-aafc-c565b5156d0f",
   "metadata": {},
   "source": [
    "The number of male actors in movies has always been greater than the number of women.  In the early 2000's it was getting very close to being equal, but then there was a big spike in actors compared to actresses. "
   ]
  },
  {
   "cell_type": "code",
   "execution_count": 179,
   "id": "ec18d54f-0ef1-4400-9234-4fb823d4e582",
   "metadata": {},
   "outputs": [
    {
     "data": {
      "text/plain": [
       "year\n",
       "2017    136658\n",
       "2016    136271\n",
       "2015    131337\n",
       "2014    129053\n",
       "2013    122744\n",
       "         ...  \n",
       "1909         3\n",
       "1894         3\n",
       "2023         2\n",
       "1900         2\n",
       "1905         1\n",
       "Name: count, Length: 124, dtype: int64"
      ]
     },
     "execution_count": 179,
     "metadata": {},
     "output_type": "execute_result"
    }
   ],
   "source": [
    "cast[\"year\"].sort_values(ascending = False).value_counts() # using 2017 as the cutoff year as that is the last full data year"
   ]
  },
  {
   "cell_type": "code",
   "execution_count": 181,
   "id": "a4401c78",
   "metadata": {},
   "outputs": [
    {
     "data": {
      "image/png": "[encoded data removed]",
      "text/plain": [
       "<Figure size 640x480 with 1 Axes>"
      ]
     },
     "metadata": {},
     "output_type": "display_data"
    }
   ],
   "source": [
    "\n",
    "cast[cast[\"year\"]<=2017].groupby([\"year\", \"type\"]).size().unstack().plot();\n"
   ]
  },
  {
   "cell_type": "markdown",
   "id": "5e3a04c7",
   "metadata": {},
   "source": [
    "### 9. How many \"leading roles\" were there in the 2000's?"
   ]
  },
  {
   "cell_type": "markdown",
   "id": "031199f1-b2ee-4828-86e4-847cb11eec74",
   "metadata": {},
   "source": [
    "In the 2000's there were 23,593 leading roles in movies. "
   ]
  },
  {
   "cell_type": "code",
   "execution_count": 39,
   "id": "01cc5e7f",
   "metadata": {},
   "outputs": [
    {
     "name": "stdout",
     "output_type": "stream",
     "text": [
      "title        23593\n",
      "year         23593\n",
      "name         23593\n",
      "type         23593\n",
      "character    23593\n",
      "n            23593\n",
      "dtype: int64\n"
     ]
    }
   ],
   "source": [
    "print(cast[(cast.n == 1)&(cast.year>=2000)&(cast.year<=2009)].count())\n"
   ]
  },
  {
   "cell_type": "markdown",
   "id": "a60c91b4",
   "metadata": {},
   "source": [
    "### 10. How many roles received no ranking in the 2000's? 1950's. What conclusions can you draw from these two data points?"
   ]
  },
  {
   "cell_type": "markdown",
   "id": "d4d8a165-4ada-4a7e-8471-191d46681f8d",
   "metadata": {},
   "source": [
    "In 1950 there were 95,406 roles that received no rank and in 2000 there were 232,037.  During this same time we know that movie production doubled from a previous query that we did.  We'd expect to see a doubling of roles with no rank, however we see roles with no rank more than double.  I think this would indicate higher cast counts for movies made in the 2000's compared to the 1950's. "
   ]
  },
  {
   "cell_type": "code",
   "execution_count": 42,
   "id": "4b729250",
   "metadata": {},
   "outputs": [
    {
     "name": "stdout",
     "output_type": "stream",
     "text": [
      "title        232037\n",
      "year         232037\n",
      "name         232037\n",
      "type         232037\n",
      "character    232036\n",
      "n                 0\n",
      "dtype: int64\n",
      "title        95406\n",
      "year         95406\n",
      "name         95406\n",
      "type         95406\n",
      "character    95406\n",
      "n                0\n",
      "dtype: int64\n"
     ]
    }
   ],
   "source": [
    "print(cast[(cast.n.isnull())&(cast.year>=2000)&(cast.year<=2009)].count())\n",
    "print(cast[(cast.n.isnull())&(cast.year>=1950)&(cast.year<=1959)].count())"
   ]
  },
  {
   "cell_type": "markdown",
   "id": "33d9c249",
   "metadata": {},
   "source": [
    "### 11. Plot the number of films made in each decade"
   ]
  },
  {
   "cell_type": "markdown",
   "id": "8d898a72-ae22-48b5-9b1e-c57d35a490c2",
   "metadata": {},
   "source": [
    "First, I had to sort them by decade, and then I wanted to check to make sure that it was added to the dataframe as expected.  Then I graphed the data.  There's been a steep incline in movies released in the past few years."
   ]
  },
  {
   "cell_type": "code",
   "execution_count": 187,
   "id": "90039683-0786-49df-bbd3-2a0ea65c5b71",
   "metadata": {},
   "outputs": [
    {
     "data": {
      "text/plain": [
       "year\n",
       "2017    9888\n",
       "2016    8198\n",
       "2015    7564\n",
       "2014    7159\n",
       "2013    6896\n",
       "        ... \n",
       "2115       1\n",
       "1903       1\n",
       "2026       1\n",
       "2025       1\n",
       "1894       1\n",
       "Name: count, Length: 128, dtype: int64"
      ]
     },
     "execution_count": 187,
     "metadata": {},
     "output_type": "execute_result"
    }
   ],
   "source": [
    "titles[\"year\"].sort_values(ascending = False).value_counts() #using 2010's as the cutoff decade even though we don't have full data"
   ]
  },
  {
   "cell_type": "code",
   "execution_count": 191,
   "id": "510cf6fb-69c4-4c22-b809-cd55bba91992",
   "metadata": {},
   "outputs": [
    {
     "data": {
      "text/html": [
       "<div>\n",
       "<style scoped>\n",
       "    .dataframe tbody tr th:only-of-type {\n",
       "        vertical-align: middle;\n",
       "    }\n",
       "\n",
       "    .dataframe tbody tr th {\n",
       "        vertical-align: top;\n",
       "    }\n",
       "\n",
       "    .dataframe thead th {\n",
       "        text-align: right;\n",
       "    }\n",
       "</style>\n",
       "<table border=\"1\" class=\"dataframe\">\n",
       "  <thead>\n",
       "    <tr style=\"text-align: right;\">\n",
       "      <th></th>\n",
       "      <th>title</th>\n",
       "      <th>year</th>\n",
       "      <th>decades</th>\n",
       "    </tr>\n",
       "  </thead>\n",
       "  <tbody>\n",
       "    <tr>\n",
       "      <th>0</th>\n",
       "      <td>Ankara ekspresi</td>\n",
       "      <td>1952</td>\n",
       "      <td>1950</td>\n",
       "    </tr>\n",
       "    <tr>\n",
       "      <th>1</th>\n",
       "      <td>Ans Vaterland, ans teure</td>\n",
       "      <td>1915</td>\n",
       "      <td>1910</td>\n",
       "    </tr>\n",
       "    <tr>\n",
       "      <th>2</th>\n",
       "      <td>Miss Mohini</td>\n",
       "      <td>2002</td>\n",
       "      <td>2000</td>\n",
       "    </tr>\n",
       "    <tr>\n",
       "      <th>3</th>\n",
       "      <td>La vera madre</td>\n",
       "      <td>1999</td>\n",
       "      <td>1990</td>\n",
       "    </tr>\n",
       "    <tr>\n",
       "      <th>4</th>\n",
       "      <td>O Amerikanos</td>\n",
       "      <td>1993</td>\n",
       "      <td>1990</td>\n",
       "    </tr>\n",
       "  </tbody>\n",
       "</table>\n",
       "</div>"
      ],
      "text/plain": [
       "                      title  year  decades\n",
       "0           Ankara ekspresi  1952     1950\n",
       "1  Ans Vaterland, ans teure  1915     1910\n",
       "2               Miss Mohini  2002     2000\n",
       "3             La vera madre  1999     1990\n",
       "4              O Amerikanos  1993     1990"
      ]
     },
     "execution_count": 191,
     "metadata": {},
     "output_type": "execute_result"
    }
   ],
   "source": [
    "titles[\"decades\"]= (titles[\"year\"] // 10) * 10\n",
    "titles.head()\n",
    "\n"
   ]
  },
  {
   "cell_type": "code",
   "execution_count": 199,
   "id": "165afdb6-2dc8-4963-8ba1-8c52725586c2",
   "metadata": {},
   "outputs": [
    {
     "data": {
      "image/png": "[encoded data removed]",
      "text/plain": [
       "<Figure size 640x480 with 1 Axes>"
      ]
     },
     "metadata": {},
     "output_type": "display_data"
    }
   ],
   "source": [
    "titles[titles[\"decades\"] <2020].groupby(\"decades\").size().plot();"
   ]
  },
  {
   "cell_type": "markdown",
   "id": "7b8b93e3",
   "metadata": {},
   "source": [
    "### 12. Plot the number of films with a Rustler character over time"
   ]
  },
  {
   "cell_type": "markdown",
   "id": "c8f2a498-02cb-46bb-b2aa-5e00c458505d",
   "metadata": {},
   "source": [
    "The Rustler character peaked in the 1930's and 1940's"
   ]
  },
  {
   "cell_type": "code",
   "execution_count": 49,
   "id": "415b2e85-ef7f-400a-a306-cf6a9376890f",
   "metadata": {},
   "outputs": [],
   "source": [
    "rustler = cast[cast[\"character\"] == \"Rustler\"]"
   ]
  },
  {
   "cell_type": "code",
   "execution_count": 50,
   "id": "ed1bce02",
   "metadata": {},
   "outputs": [
    {
     "data": {
      "image/png": "[encoded data removed]",
      "text/plain": [
       "<Figure size 640x480 with 1 Axes>"
      ]
     },
     "metadata": {},
     "output_type": "display_data"
    }
   ],
   "source": [
    "rustler.groupby(\"year\").size().plot();"
   ]
  },
  {
   "cell_type": "markdown",
   "id": "1df5a8a7",
   "metadata": {},
   "source": [
    "### 13. What are the top ten character names of all time?"
   ]
  },
  {
   "cell_type": "markdown",
   "id": "0652e122-8ad7-4025-a061-52da381730aa",
   "metadata": {},
   "source": [
    "Interesting that Himself and Herself makes an appearance in the top 10. Maybe this suggests that cameos have always been popular in films. "
   ]
  },
  {
   "cell_type": "code",
   "execution_count": 53,
   "id": "fc30c391",
   "metadata": {},
   "outputs": [
    {
     "data": {
      "text/plain": [
       "character\n",
       "Himself        19637\n",
       "Dancer         12019\n",
       "Extra          10848\n",
       "Reporter        7818\n",
       "Doctor          6963\n",
       "Party Guest     6786\n",
       "Student         6631\n",
       "Policeman       6424\n",
       "Bartender       6290\n",
       "Herself         6269\n",
       "Name: count, dtype: int64"
      ]
     },
     "execution_count": 53,
     "metadata": {},
     "output_type": "execute_result"
    }
   ],
   "source": [
    "cast[\"character\"].value_counts().head(10)"
   ]
  },
  {
   "cell_type": "markdown",
   "id": "febd5c97",
   "metadata": {},
   "source": [
    "### 14. Which actor appeared in the most films in the 1990's decade?"
   ]
  },
  {
   "cell_type": "markdown",
   "id": "261a9e97-06f4-4998-b708-45e2434f7930",
   "metadata": {},
   "source": [
    "In the 90's the actor with the most appearance was Shakti Kapoor with 143.  I had to look them up because I'd never heard of them, but it appears that they are a big Bollywood film star.  Interestingly, the top 5 actors in the 90's are all movie stars from India.  "
   ]
  },
  {
   "cell_type": "code",
   "execution_count": 56,
   "id": "ed10c4df",
   "metadata": {},
   "outputs": [
    {
     "name": "stdout",
     "output_type": "stream",
     "text": [
      "name\n",
      "Shakti Kapoor     143\n",
      "Kader Khan        122\n",
      "Gulshan Grover    120\n",
      "Anupam Kher       116\n",
      "Brahmanandam      114\n",
      "Name: count, dtype: int64\n"
     ]
    }
   ],
   "source": [
    "print(cast[(cast.year >= 1990)&(cast.year<=1999)&(cast.type == \"actor\")][\"name\"].value_counts().head())"
   ]
  },
  {
   "cell_type": "markdown",
   "id": "b2d57a18",
   "metadata": {},
   "source": [
    "### 15. What are the top 10 roles that start with Science?"
   ]
  },
  {
   "cell_type": "markdown",
   "id": "9b58871c-956b-4703-8735-61766e6fc9f3",
   "metadata": {},
   "source": [
    "Science Teacher is by far the highest at 57.  I also notice that this is caps sensitive as Science Teacher and Science teacher have a unique count.  "
   ]
  },
  {
   "cell_type": "code",
   "execution_count": 59,
   "id": "64b41362",
   "metadata": {},
   "outputs": [
    {
     "data": {
      "text/plain": [
       "character\n",
       "Science Teacher         57\n",
       "Science Fair Student     9\n",
       "Science Fair Judge       6\n",
       "Science Student          6\n",
       "Science Kid              5\n",
       "Science Reporter         5\n",
       "Science Fair Kid         5\n",
       "Science                  4\n",
       "Science teacher          3\n",
       "Science Officer          3\n",
       "dtype: int64"
      ]
     },
     "execution_count": 59,
     "metadata": {},
     "output_type": "execute_result"
    }
   ],
   "source": [
    "cast[cast.character.str.contains(\"^Science\", na = False)].groupby(\"character\").size().sort_values(ascending = False).head(10)"
   ]
  },
  {
   "cell_type": "markdown",
   "id": "7e37caf3",
   "metadata": {},
   "source": [
    "### 16. What film has the largest cast"
   ]
  },
  {
   "cell_type": "markdown",
   "id": "50523ef4-6c73-45ae-bd41-5696eb1e8f16",
   "metadata": {},
   "source": [
    "\"Around the World in 80 Days\" had a cast of 1364 members. "
   ]
  },
  {
   "cell_type": "code",
   "execution_count": 62,
   "id": "1de674fc",
   "metadata": {},
   "outputs": [
    {
     "data": {
      "text/plain": [
       "title\n",
       "Around the World in 80 Days    1364\n",
       "Hello Au Revoir                 726\n",
       "7 cajas                         689\n",
       "Thelma                          593\n",
       "The Ten Commandments            536\n",
       "Name: name, dtype: int64"
      ]
     },
     "execution_count": 62,
     "metadata": {},
     "output_type": "execute_result"
    }
   ],
   "source": [
    "cast.groupby(\"title\")[\"name\"].size().sort_values(ascending = False).head()"
   ]
  },
  {
   "cell_type": "markdown",
   "id": "3a1a26ba",
   "metadata": {},
   "source": [
    "### 17. Generate descriptive statistics for cast size. Briefly comment on the results"
   ]
  },
  {
   "cell_type": "code",
   "execution_count": 64,
   "id": "b0592c92",
   "metadata": {},
   "outputs": [
    {
     "name": "stdout",
     "output_type": "stream",
     "text": [
      "<class 'pandas.core.series.Series'>\n",
      "Index: 168254 entries, Around the World in 80 Days to Eskandalosa\n",
      "Series name: name\n",
      "Non-Null Count   Dtype\n",
      "--------------   -----\n",
      "168254 non-null  int64\n",
      "dtypes: int64(1)\n",
      "memory usage: 2.6+ MB\n"
     ]
    }
   ],
   "source": [
    "cast.groupby(\"title\")[\"name\"].size().sort_values(ascending = False).info()"
   ]
  },
  {
   "cell_type": "code",
   "execution_count": 65,
   "id": "106a5cdb-3425-4386-ac7d-65502077e481",
   "metadata": {},
   "outputs": [
    {
     "data": {
      "text/html": [
       "<div>\n",
       "<style scoped>\n",
       "    .dataframe tbody tr th:only-of-type {\n",
       "        vertical-align: middle;\n",
       "    }\n",
       "\n",
       "    .dataframe tbody tr th {\n",
       "        vertical-align: top;\n",
       "    }\n",
       "\n",
       "    .dataframe thead tr th {\n",
       "        text-align: left;\n",
       "    }\n",
       "\n",
       "    .dataframe thead tr:last-of-type th {\n",
       "        text-align: right;\n",
       "    }\n",
       "</style>\n",
       "<table border=\"1\" class=\"dataframe\">\n",
       "  <thead>\n",
       "    <tr>\n",
       "      <th></th>\n",
       "      <th>count</th>\n",
       "      <th>min</th>\n",
       "      <th>max</th>\n",
       "    </tr>\n",
       "    <tr>\n",
       "      <th></th>\n",
       "      <th>name</th>\n",
       "      <th>name</th>\n",
       "      <th>name</th>\n",
       "    </tr>\n",
       "    <tr>\n",
       "      <th>title</th>\n",
       "      <th></th>\n",
       "      <th></th>\n",
       "      <th></th>\n",
       "    </tr>\n",
       "  </thead>\n",
       "  <tbody>\n",
       "    <tr>\n",
       "      <th>Around the World in 80 Days</th>\n",
       "      <td>1364</td>\n",
       "      <td>'King Kong' Kashey</td>\n",
       "      <td>Zelinda Mora</td>\n",
       "    </tr>\n",
       "    <tr>\n",
       "      <th>Hello Au Revoir</th>\n",
       "      <td>726</td>\n",
       "      <td>Aaron (II) Hand</td>\n",
       "      <td>Yuliya Edgley</td>\n",
       "    </tr>\n",
       "    <tr>\n",
       "      <th>7 cajas</th>\n",
       "      <td>689</td>\n",
       "      <td>Adriana Escobar Cáceres</td>\n",
       "      <td>Ángel Coronel</td>\n",
       "    </tr>\n",
       "    <tr>\n",
       "      <th>Thelma</th>\n",
       "      <td>593</td>\n",
       "      <td>Aachea Malicdem</td>\n",
       "      <td>Zyra Jay Macugay</td>\n",
       "    </tr>\n",
       "    <tr>\n",
       "      <th>The Ten Commandments</th>\n",
       "      <td>536</td>\n",
       "      <td>Abbas El Boughdadly</td>\n",
       "      <td>Zev Bufman</td>\n",
       "    </tr>\n",
       "  </tbody>\n",
       "</table>\n",
       "</div>"
      ],
      "text/plain": [
       "                            count                      min               max\n",
       "                             name                     name              name\n",
       "title                                                                       \n",
       "Around the World in 80 Days  1364       'King Kong' Kashey      Zelinda Mora\n",
       "Hello Au Revoir               726          Aaron (II) Hand     Yuliya Edgley\n",
       "7 cajas                       689  Adriana Escobar Cáceres     Ángel Coronel\n",
       "Thelma                        593          Aachea Malicdem  Zyra Jay Macugay\n",
       "The Ten Commandments          536      Abbas El Boughdadly        Zev Bufman"
      ]
     },
     "execution_count": 65,
     "metadata": {},
     "output_type": "execute_result"
    }
   ],
   "source": [
    "castcount = pd.pivot_table(cast, values = \"name\", index=\"title\", aggfunc=['count','min','max']).dropna()\n",
    "castcount.sort_values( by = (\"count\",\"name\"), ascending = False).head()"
   ]
  },
  {
   "cell_type": "markdown",
   "id": "57885f86",
   "metadata": {},
   "source": [
    "### 18. How many films has Natalie Portman been in in each year throughout her career?"
   ]
  },
  {
   "cell_type": "markdown",
   "id": "e35977c5-a8bf-4791-acd2-5f8137563f84",
   "metadata": {},
   "source": [
    "Natalie Portman peaked at 4 movies in a year, which she did 3 times in years 2015, 2010 and 2005.  "
   ]
  },
  {
   "cell_type": "code",
   "execution_count": 68,
   "id": "e2457352",
   "metadata": {},
   "outputs": [
    {
     "data": {
      "text/plain": [
       "year\n",
       "2017    1\n",
       "2016    3\n",
       "2015    4\n",
       "2013    1\n",
       "2011    3\n",
       "2010    4\n",
       "2009    2\n",
       "2008    1\n",
       "2007    3\n",
       "2006    2\n",
       "2005    4\n",
       "2004    2\n",
       "2003    1\n",
       "2002    1\n",
       "2001    1\n",
       "2000    1\n",
       "1999    3\n",
       "1996    3\n",
       "1995    1\n",
       "Name: count, dtype: int64"
      ]
     },
     "execution_count": 68,
     "metadata": {},
     "output_type": "execute_result"
    }
   ],
   "source": [
    "cast[(cast.name == \"Natalie Portman\")][\"year\"].value_counts().sort_index(ascending = False)"
   ]
  },
  {
   "cell_type": "markdown",
   "id": "1bff19c5",
   "metadata": {},
   "source": [
    "### 19. How many films did Natalie Portman appear in each year where where she was either the top star or co-star?\n"
   ]
  },
  {
   "cell_type": "markdown",
   "id": "2ac379ed-a38b-4085-acfe-ecb3b253f7e5",
   "metadata": {},
   "source": [
    "Interestingly, Natalie Portman appeared in as many as 3 movies where she was the top star or co-star in a year.  One interesting piece is that in 2015, 2010 and 2005 she either appeared in 3 or 2 movies as top star or co-star, which coincided with her most movie appearances. "
   ]
  },
  {
   "cell_type": "code",
   "execution_count": 71,
   "id": "5522f38b-af32-4dbd-86e4-1a071475e9a8",
   "metadata": {},
   "outputs": [
    {
     "data": {
      "text/plain": [
       "year\n",
       "2016    2\n",
       "2015    2\n",
       "2013    1\n",
       "2011    2\n",
       "2010    2\n",
       "2009    1\n",
       "2008    1\n",
       "2007    1\n",
       "2006    2\n",
       "2005    3\n",
       "2002    1\n",
       "2000    1\n",
       "1999    1\n",
       "Name: count, dtype: int64"
      ]
     },
     "execution_count": 71,
     "metadata": {},
     "output_type": "execute_result"
    }
   ],
   "source": [
    "cast[(cast.name == \"Natalie Portman\")&(cast.n <=2)&(cast.n.notnull())][\"year\"].value_counts().sort_index(ascending = False)"
   ]
  },
  {
   "cell_type": "markdown",
   "id": "8eda704b",
   "metadata": {},
   "source": [
    "### 20. Determine how many roles for actor or actress by decade. Plot the output "
   ]
  },
  {
   "cell_type": "markdown",
   "id": "297d298a-e3aa-4d45-af21-40493f4219f1",
   "metadata": {},
   "source": [
    "There was a very similar trend to what we saw in a previous graph, but since this uses decades it's smoothed out a bit.  "
   ]
  },
  {
   "cell_type": "code",
   "execution_count": 74,
   "id": "9f30e3d3-c80b-4c38-900b-70b507c95da2",
   "metadata": {},
   "outputs": [
    {
     "data": {
      "image/png": "[encoded data removed]",
      "text/plain": [
       "<Figure size 640x480 with 1 Axes>"
      ]
     },
     "metadata": {},
     "output_type": "display_data"
    }
   ],
   "source": [
    "cast[\"decades\"] = (cast[\"year\"] // 10) * 10\n",
    "cast.groupby([\"decades\", \"type\"]).size().unstack().plot();"
   ]
  },
  {
   "cell_type": "markdown",
   "id": "fffe663b",
   "metadata": {},
   "source": [
    "### 21. Determine and comment on the day of the week that movies are released. What is notable about release days and months throughout the year? (Use pd.pivot_table)"
   ]
  },
  {
   "cell_type": "markdown",
   "id": "ae748d8d-9dda-4100-b85a-fb42be55da56",
   "metadata": {},
   "source": [
    "Movies are released at higher levels on a Thursday or Friday. This makes sense as most people go to the movie theatre as a night time activity.  Interestingly, movies are realeased consistantly throughout the year.  There is some seasonality where movie releases slow down in the summer months.  It seems like the movie industry has done a good job identifying and marketing movies that make sense during that specific part of the calendar year.  They release summer blockbuster movies, scary movies during Halloween, and movies over the festive period.  It's going to be interesting to see if this starts to change as more movies go directly to streaming and with strearming services it's more about acquiring and keeping existing customers to raise net retention revenue(NRR).  On the streaming services I have it seems like there's always 1 higher production movie exclusive to the streaming service a month.  "
   ]
  },
  {
   "cell_type": "code",
   "execution_count": 76,
   "id": "5d3f6e03",
   "metadata": {},
   "outputs": [
    {
     "name": "stdout",
     "output_type": "stream",
     "text": [
      "<class 'pandas.core.frame.DataFrame'>\n",
      "RangeIndex: 443486 entries, 0 to 443485\n",
      "Data columns (total 4 columns):\n",
      " #   Column   Non-Null Count   Dtype \n",
      "---  ------   --------------   ----- \n",
      " 0   title    443485 non-null  object\n",
      " 1   year     443486 non-null  int64 \n",
      " 2   country  443486 non-null  object\n",
      " 3   date     443486 non-null  object\n",
      "dtypes: int64(1), object(3)\n",
      "memory usage: 13.5+ MB\n"
     ]
    }
   ],
   "source": [
    "dates.info()\n"
   ]
  },
  {
   "cell_type": "code",
   "execution_count": 77,
   "id": "fa120bb0-4c83-4a25-b7bb-89142f231eea",
   "metadata": {},
   "outputs": [
    {
     "name": "stdout",
     "output_type": "stream",
     "text": [
      "<class 'pandas.core.frame.DataFrame'>\n",
      "RangeIndex: 443486 entries, 0 to 443485\n",
      "Data columns (total 4 columns):\n",
      " #   Column   Non-Null Count   Dtype         \n",
      "---  ------   --------------   -----         \n",
      " 0   title    443485 non-null  object        \n",
      " 1   year     443486 non-null  int64         \n",
      " 2   country  443486 non-null  object        \n",
      " 3   date     443486 non-null  datetime64[ns]\n",
      "dtypes: datetime64[ns](1), int64(1), object(2)\n",
      "memory usage: 13.5+ MB\n"
     ]
    }
   ],
   "source": [
    "dates[\"date\"] = pd.to_datetime(dates[\"date\"])\n",
    "dates.info()"
   ]
  },
  {
   "cell_type": "code",
   "execution_count": 78,
   "id": "d0fe685a-f2aa-4285-9828-dee7a0615e25",
   "metadata": {},
   "outputs": [
    {
     "data": {
      "text/html": [
       "<div>\n",
       "<style scoped>\n",
       "    .dataframe tbody tr th:only-of-type {\n",
       "        vertical-align: middle;\n",
       "    }\n",
       "\n",
       "    .dataframe tbody tr th {\n",
       "        vertical-align: top;\n",
       "    }\n",
       "\n",
       "    .dataframe thead th {\n",
       "        text-align: right;\n",
       "    }\n",
       "</style>\n",
       "<table border=\"1\" class=\"dataframe\">\n",
       "  <thead>\n",
       "    <tr style=\"text-align: right;\">\n",
       "      <th></th>\n",
       "      <th>title</th>\n",
       "      <th>year</th>\n",
       "      <th>country</th>\n",
       "      <th>date</th>\n",
       "      <th>DayOfWeek</th>\n",
       "      <th>Months</th>\n",
       "    </tr>\n",
       "  </thead>\n",
       "  <tbody>\n",
       "    <tr>\n",
       "      <th>0</th>\n",
       "      <td>#73, Shaanthi Nivaasa</td>\n",
       "      <td>2007</td>\n",
       "      <td>India</td>\n",
       "      <td>2007-06-15</td>\n",
       "      <td>Friday</td>\n",
       "      <td>6</td>\n",
       "    </tr>\n",
       "    <tr>\n",
       "      <th>1</th>\n",
       "      <td>#BKKY</td>\n",
       "      <td>2016</td>\n",
       "      <td>Cambodia</td>\n",
       "      <td>2017-10-12</td>\n",
       "      <td>Thursday</td>\n",
       "      <td>10</td>\n",
       "    </tr>\n",
       "    <tr>\n",
       "      <th>2</th>\n",
       "      <td>#Beings</td>\n",
       "      <td>2015</td>\n",
       "      <td>Romania</td>\n",
       "      <td>2015-01-29</td>\n",
       "      <td>Thursday</td>\n",
       "      <td>1</td>\n",
       "    </tr>\n",
       "    <tr>\n",
       "      <th>3</th>\n",
       "      <td>#Captured</td>\n",
       "      <td>2017</td>\n",
       "      <td>USA</td>\n",
       "      <td>2017-09-05</td>\n",
       "      <td>Tuesday</td>\n",
       "      <td>9</td>\n",
       "    </tr>\n",
       "    <tr>\n",
       "      <th>4</th>\n",
       "      <td>#Ewankosau saranghaeyo</td>\n",
       "      <td>2015</td>\n",
       "      <td>Philippines</td>\n",
       "      <td>2015-01-21</td>\n",
       "      <td>Wednesday</td>\n",
       "      <td>1</td>\n",
       "    </tr>\n",
       "  </tbody>\n",
       "</table>\n",
       "</div>"
      ],
      "text/plain": [
       "                    title  year      country       date  DayOfWeek  Months\n",
       "0   #73, Shaanthi Nivaasa  2007        India 2007-06-15     Friday       6\n",
       "1                   #BKKY  2016     Cambodia 2017-10-12   Thursday      10\n",
       "2                 #Beings  2015      Romania 2015-01-29   Thursday       1\n",
       "3               #Captured  2017          USA 2017-09-05    Tuesday       9\n",
       "4  #Ewankosau saranghaeyo  2015  Philippines 2015-01-21  Wednesday       1"
      ]
     },
     "execution_count": 78,
     "metadata": {},
     "output_type": "execute_result"
    }
   ],
   "source": [
    "dates[\"DayOfWeek\"] = dates[\"date\"].dt.day_name()\n",
    "dates[\"Months\"] = dates[\"date\"].dt.month\n",
    "dates.head()"
   ]
  },
  {
   "cell_type": "code",
   "execution_count": 79,
   "id": "e8663fba-166a-4a96-a895-2d47603a8fb9",
   "metadata": {},
   "outputs": [
    {
     "name": "stdout",
     "output_type": "stream",
     "text": [
      "            count\n",
      "             date\n",
      "DayOfWeek        \n",
      "Friday     163174\n",
      "Monday      37210\n",
      "Saturday    31332\n",
      "Sunday      15823\n",
      "Thursday   125746\n",
      "Tuesday     16762\n",
      "Wednesday   53439\n"
     ]
    }
   ],
   "source": [
    "print(pd.pivot_table(dates, values = \"date\", index=[\"DayOfWeek\"], aggfunc=[\"count\"]).dropna())"
   ]
  },
  {
   "cell_type": "code",
   "execution_count": 80,
   "id": "117d0b52-87f7-4bee-b4c2-3566f1742fd0",
   "metadata": {},
   "outputs": [
    {
     "name": "stdout",
     "output_type": "stream",
     "text": [
      "        count\n",
      "         date\n",
      "Months       \n",
      "12      39096\n",
      "11      38201\n",
      "10      40204\n",
      "9       37750\n",
      "8       35011\n",
      "7       31421\n",
      "6       32704\n",
      "5       35449\n",
      "4       37674\n",
      "3       40257\n",
      "2       36307\n",
      "1       39412\n"
     ]
    }
   ],
   "source": [
    "print(pd.pivot_table(dates, values = \"date\", index=[\"Months\"], aggfunc=[\"count\"]).dropna().sort_index(ascending = False))"
   ]
  },
  {
   "cell_type": "markdown",
   "id": "88b4b805",
   "metadata": {},
   "source": [
    "### 22. Can you plot the pivot table? Is the output \"correct\"? Can you fix it?"
   ]
  },
  {
   "cell_type": "code",
   "execution_count": null,
   "id": "1aee0068-54a2-463d-8e3b-154652d40288",
   "metadata": {},
   "outputs": [],
   "source": []
  },
  {
   "cell_type": "code",
   "execution_count": 83,
   "id": "07152c8b",
   "metadata": {
    "scrolled": true
   },
   "outputs": [
    {
     "data": {
      "text/plain": [
       "<Axes: xlabel='Months'>"
      ]
     },
     "execution_count": 83,
     "metadata": {},
     "output_type": "execute_result"
    },
    {
     "data": {
      "image/png": "[encoded data removed]",
      "text/plain": [
       "<Figure size 640x480 with 1 Axes>"
      ]
     },
     "metadata": {},
     "output_type": "display_data"
    }
   ],
   "source": [
    "pd.pivot_table(dates, values = \"date\", index=[\"Months\"], aggfunc=[\"count\"]).plot()"
   ]
  },
  {
   "cell_type": "code",
   "execution_count": 84,
   "id": "02872770-56cd-48dc-ae91-a0d4e3e0779e",
   "metadata": {},
   "outputs": [
    {
     "data": {
      "image/png": "[encoded data removed]",
      "text/plain": [
       "<Figure size 640x480 with 1 Axes>"
      ]
     },
     "metadata": {},
     "output_type": "display_data"
    }
   ],
   "source": [
    "pd.pivot_table(dates, values = \"date\", index=[\"DayOfWeek\"], aggfunc=[\"count\"]).hist();"
   ]
  },
  {
   "cell_type": "code",
   "execution_count": 85,
   "id": "e4b0b453-55ec-4990-8181-14ef1b2e030f",
   "metadata": {},
   "outputs": [
    {
     "data": {
      "image/png": "[encoded data removed]",
      "text/plain": [
       "<Figure size 640x480 with 4 Axes>"
      ]
     },
     "metadata": {},
     "output_type": "display_data"
    },
    {
     "data": {
      "image/png": "[encoded data removed]",
      "text/plain": [
       "<Figure size 640x480 with 4 Axes>"
      ]
     },
     "metadata": {},
     "output_type": "display_data"
    },
    {
     "data": {
      "image/png": "[encoded data removed]",
      "text/plain": [
       "<Figure size 640x480 with 4 Axes>"
      ]
     },
     "metadata": {},
     "output_type": "display_data"
    },
    {
     "data": {
      "image/png": "[encoded data removed]",
      "text/plain": [
       "<Figure size 640x480 with 4 Axes>"
      ]
     },
     "metadata": {},
     "output_type": "display_data"
    },
    {
     "data": {
      "image/png": "[encoded data removed]",
      "text/plain": [
       "<Figure size 640x480 with 4 Axes>"
      ]
     },
     "metadata": {},
     "output_type": "display_data"
    },
    {
     "data": {
      "image/png": "[encoded data removed]",
      "text/plain": [
       "<Figure size 640x480 with 4 Axes>"
      ]
     },
     "metadata": {},
     "output_type": "display_data"
    },
    {
     "data": {
      "image/png": "[encoded data removed]",
      "text/plain": [
       "<Figure size 640x480 with 4 Axes>"
      ]
     },
     "metadata": {},
     "output_type": "display_data"
    }
   ],
   "source": [
    "dates.groupby([\"DayOfWeek\"]).hist();"
   ]
  },
  {
   "cell_type": "markdown",
   "id": "19fc8bc4",
   "metadata": {},
   "source": [
    "### 23. What films did actors in Star Wars go on to appear in? "
   ]
  },
  {
   "cell_type": "markdown",
   "id": "a17587a5-32b1-4539-a3e9-253f184494a0",
   "metadata": {},
   "source": [
    "Listed below are the movies that actors appeared in that also appeared in Star Wars.  I was hoping that (cast[\"year\"] > cast[\"title\"].str.contains(\"Star Wars\", na=False)) would create a logic that would reason to show movies that only happened after appearing in Star Wars, but it doesn't seem to be filtering correctly.  What is returned is all other films an actor was in who also made an appearance in Star Wars."
   ]
  },
  {
   "cell_type": "code",
   "execution_count": 159,
   "id": "35e5f456",
   "metadata": {
    "scrolled": true
   },
   "outputs": [
    {
     "name": "stdout",
     "output_type": "stream",
     "text": [
      "                             title              name  year\n",
      "3900          Addams Family Values   Ian Abercrombie  1993\n",
      "3901           Blasphemy the Movie   Ian Abercrombie  2001\n",
      "3902              Chromiumblue.com   Ian Abercrombie  2003\n",
      "3903                   Clean Slate   Ian Abercrombie  1994\n",
      "3904                    Firewalker   Ian Abercrombie  1986\n",
      "...                            ...               ...   ...\n",
      "2286212     Middleton's Changeling  Miltos Yerolemou  1998\n",
      "2286214            The Danish Girl  Miltos Yerolemou  2015\n",
      "2286215     The Inbetweeners Movie  Miltos Yerolemou  2011\n",
      "2286216  The West Wittering Affair  Miltos Yerolemou  2006\n",
      "2286217                Tulip Fever  Miltos Yerolemou  2017\n",
      "\n",
      "[5564 rows x 3 columns]\n"
     ]
    }
   ],
   "source": [
    "cast_of_star_wars = cast[cast[\"title\"].str.contains(\"Star Wars\", na=False)][\"name\"]\n",
    "star_wars_actors = cast[(cast[\"name\"].isin(cast_of_star_wars)) & (cast.type == \"actor\") & (cast[\"year\"] > cast[\"title\"].str.contains(\"Star Wars\", na=False)) & (~cast[\"title\"].str.contains(\"Star Wars\",na = False))]\n",
    "print(star_wars_actors[[\"title\", \"name\", \"year\"]])"
   ]
  },
  {
   "cell_type": "code",
   "execution_count": null,
   "id": "2de76e6c",
   "metadata": {},
   "outputs": [],
   "source": []
  }
 ],
 "metadata": {
  "kernelspec": {
   "display_name": "Python 3 (ipykernel)",
   "language": "python",
   "name": "python3"
  },
  "language_info": {
   "codemirror_mode": {
    "name": "ipython",
    "version": 3
   },
   "file_extension": ".py",
   "mimetype": "text/x-python",
   "name": "python",
   "nbconvert_exporter": "python",
   "pygments_lexer": "ipython3",
   "version": "3.12.7"
  }
 },
 "nbformat": 4,
 "nbformat_minor": 5
}
