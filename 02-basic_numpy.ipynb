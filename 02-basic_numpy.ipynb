{
 "cells": [
  {
   "cell_type": "markdown",
   "id": "82d4a65b",
   "metadata": {},
   "source": [
    "## Basic NumPy Functionality"
   ]
  },
  {
   "cell_type": "markdown",
   "id": "d5841649",
   "metadata": {},
   "source": [
    "### NumPy n-dim array\n",
    "* Part of a Data \"ecosystem\" which includes data science libaries, machine learning and image processing\n",
    "* NumPy is huge and very powerful --> we will just hit the highlights\n",
    "* optimized array, superior to lists\n",
    "* can be \"any\" number of dimensions, typically 1 or 2 dims though\n",
    "* restricted to a single data type\n",
    "* required to \"dimension\" your arrays when you initialize them "
   ]
  },
  {
   "cell_type": "code",
   "execution_count": 2,
   "id": "e00a4c30",
   "metadata": {},
   "outputs": [],
   "source": [
    "import numpy as np"
   ]
  },
  {
   "cell_type": "code",
   "execution_count": 4,
   "id": "f5e76bd4",
   "metadata": {},
   "outputs": [],
   "source": [
    "l = [1, 2, 3] \n",
    "a = np.array([1,2,3])"
   ]
  },
  {
   "cell_type": "code",
   "execution_count": 8,
   "id": "8dead382",
   "metadata": {},
   "outputs": [
    {
     "data": {
      "text/plain": [
       "'1.26.4'"
      ]
     },
     "execution_count": 8,
     "metadata": {},
     "output_type": "execute_result"
    }
   ],
   "source": [
    "np.__version__"
   ]
  },
  {
   "cell_type": "code",
   "execution_count": 12,
   "id": "44e967bd",
   "metadata": {},
   "outputs": [
    {
     "data": {
      "text/plain": [
       "[1, 2, 3]"
      ]
     },
     "execution_count": 12,
     "metadata": {},
     "output_type": "execute_result"
    }
   ],
   "source": [
    "l"
   ]
  },
  {
   "cell_type": "code",
   "execution_count": 14,
   "id": "2f5f2175",
   "metadata": {},
   "outputs": [
    {
     "data": {
      "text/plain": [
       "array([1, 2, 3])"
      ]
     },
     "execution_count": 14,
     "metadata": {},
     "output_type": "execute_result"
    }
   ],
   "source": [
    "a"
   ]
  },
  {
   "cell_type": "code",
   "execution_count": 18,
   "id": "406b8b75",
   "metadata": {},
   "outputs": [
    {
     "data": {
      "text/plain": [
       "[1, 2, 3, 1]"
      ]
     },
     "execution_count": 18,
     "metadata": {},
     "output_type": "execute_result"
    }
   ],
   "source": [
    "l + [1]"
   ]
  },
  {
   "cell_type": "code",
   "execution_count": 22,
   "id": "c7929c3e",
   "metadata": {},
   "outputs": [
    {
     "data": {
      "text/plain": [
       "array([2, 4, 6])"
      ]
     },
     "execution_count": 22,
     "metadata": {},
     "output_type": "execute_result"
    }
   ],
   "source": [
    "a + a"
   ]
  },
  {
   "cell_type": "markdown",
   "id": "8f923313",
   "metadata": {},
   "source": [
    "### Performance"
   ]
  },
  {
   "cell_type": "code",
   "execution_count": 26,
   "id": "d4955753",
   "metadata": {},
   "outputs": [],
   "source": [
    "big_array = np.arange(4.5e6)\n",
    "big_list = big_array.tolist()"
   ]
  },
  {
   "cell_type": "code",
   "execution_count": 34,
   "id": "510ad96a",
   "metadata": {},
   "outputs": [
    {
     "name": "stdout",
     "output_type": "stream",
     "text": [
      "591 ms ± 3.82 ms per loop (mean ± std. dev. of 7 runs, 10 loops each)\n"
     ]
    }
   ],
   "source": [
    "%timeit -n10 square = [x ** 2 for x in big_list]"
   ]
  },
  {
   "cell_type": "code",
   "execution_count": 38,
   "id": "a820ae3b",
   "metadata": {},
   "outputs": [
    {
     "name": "stdout",
     "output_type": "stream",
     "text": [
      "10.2 ms ± 418 μs per loop (mean ± std. dev. of 7 runs, 10 loops each)\n"
     ]
    }
   ],
   "source": [
    "%timeit -n10 square = big_array ** 2 "
   ]
  },
  {
   "cell_type": "markdown",
   "id": "5ed5818d",
   "metadata": {},
   "source": [
    "### Determining dimensions\n",
    "* size = \"rows\" * \"columns\"\n",
    "* itemsize --> number of bytes used by a single value\n",
    "* itemsize * size = bytes of memory the array uses\n",
    "* shape --> comma separated tuple of length of each dimension\n",
    "* ndim --> int value of dimensions present\n",
    "* reshape --> dimension manipulation"
   ]
  },
  {
   "cell_type": "code",
   "execution_count": 52,
   "id": "117f3b2a",
   "metadata": {},
   "outputs": [
    {
     "data": {
      "text/plain": [
       "array([ 1,  2,  3,  4,  5,  6,  7,  8,  9, 10, 11, 12, 13, 14, 15])"
      ]
     },
     "execution_count": 52,
     "metadata": {},
     "output_type": "execute_result"
    }
   ],
   "source": [
    "arr = np.arange(15)\n",
    "coll = np.arange(1,16)\n",
    "arr\n",
    "coll"
   ]
  },
  {
   "cell_type": "code",
   "execution_count": 44,
   "id": "646a24a3",
   "metadata": {},
   "outputs": [
    {
     "data": {
      "text/plain": [
       "15"
      ]
     },
     "execution_count": 44,
     "metadata": {},
     "output_type": "execute_result"
    }
   ],
   "source": [
    "arr.size\n"
   ]
  },
  {
   "cell_type": "code",
   "execution_count": 46,
   "id": "55826f28",
   "metadata": {},
   "outputs": [
    {
     "data": {
      "text/plain": [
       "15"
      ]
     },
     "execution_count": 46,
     "metadata": {},
     "output_type": "execute_result"
    }
   ],
   "source": [
    "len(arr)"
   ]
  },
  {
   "cell_type": "code",
   "execution_count": 48,
   "id": "f9cd89ae",
   "metadata": {},
   "outputs": [
    {
     "data": {
      "text/plain": [
       "4"
      ]
     },
     "execution_count": 48,
     "metadata": {},
     "output_type": "execute_result"
    }
   ],
   "source": [
    "arr.itemsize"
   ]
  },
  {
   "cell_type": "code",
   "execution_count": 54,
   "id": "8b3a6ee2",
   "metadata": {},
   "outputs": [
    {
     "data": {
      "text/plain": [
       "36000000"
      ]
     },
     "execution_count": 54,
     "metadata": {},
     "output_type": "execute_result"
    }
   ],
   "source": [
    "big_array.size * big_array.itemsize"
   ]
  },
  {
   "cell_type": "code",
   "execution_count": 68,
   "id": "d61327f6",
   "metadata": {},
   "outputs": [],
   "source": [
    "arr = arr.reshape(3,5)"
   ]
  },
  {
   "cell_type": "code",
   "execution_count": 70,
   "id": "1a776856",
   "metadata": {},
   "outputs": [
    {
     "data": {
      "text/plain": [
       "(3, 5)"
      ]
     },
     "execution_count": 70,
     "metadata": {},
     "output_type": "execute_result"
    }
   ],
   "source": [
    "arr.shape"
   ]
  },
  {
   "cell_type": "code",
   "execution_count": 76,
   "id": "b7956d73",
   "metadata": {},
   "outputs": [],
   "source": [
    "arra = np.arange(27)"
   ]
  },
  {
   "cell_type": "code",
   "execution_count": 86,
   "id": "3c3b0117",
   "metadata": {},
   "outputs": [],
   "source": [
    "arra = arra.reshape(3,3,3)"
   ]
  },
  {
   "cell_type": "code",
   "execution_count": 88,
   "id": "16a6149a",
   "metadata": {},
   "outputs": [
    {
     "data": {
      "text/plain": [
       "3"
      ]
     },
     "execution_count": 88,
     "metadata": {},
     "output_type": "execute_result"
    }
   ],
   "source": [
    "arra.ndim"
   ]
  },
  {
   "cell_type": "code",
   "execution_count": 90,
   "id": "5eb370f4",
   "metadata": {},
   "outputs": [
    {
     "data": {
      "text/plain": [
       "(3, 3, 3)"
      ]
     },
     "execution_count": 90,
     "metadata": {},
     "output_type": "execute_result"
    }
   ],
   "source": [
    "arra.shape"
   ]
  },
  {
   "cell_type": "code",
   "execution_count": null,
   "id": "a6a54dc4",
   "metadata": {},
   "outputs": [],
   "source": []
  },
  {
   "cell_type": "code",
   "execution_count": 98,
   "id": "5846dd0f",
   "metadata": {},
   "outputs": [
    {
     "data": {
      "text/plain": [
       "array([[ 0,  1,  2,  3,  4],\n",
       "       [ 5,  6,  7,  8,  9],\n",
       "       [10, 11, 12, 13, 14]])"
      ]
     },
     "execution_count": 98,
     "metadata": {},
     "output_type": "execute_result"
    }
   ],
   "source": [
    "arrg= arr.reshape(3,5)\n",
    "arrg"
   ]
  },
  {
   "cell_type": "code",
   "execution_count": 100,
   "id": "a1cda42e",
   "metadata": {},
   "outputs": [
    {
     "data": {
      "text/plain": [
       "array([ 0,  1,  2,  3,  4,  5,  6,  7,  8,  9, 10, 11, 12, 13, 14])"
      ]
     },
     "execution_count": 100,
     "metadata": {},
     "output_type": "execute_result"
    }
   ],
   "source": [
    "arrg.reshape(-1)"
   ]
  },
  {
   "cell_type": "markdown",
   "id": "1ef24555",
   "metadata": {},
   "source": [
    "### \"Slicing\""
   ]
  },
  {
   "cell_type": "code",
   "execution_count": 114,
   "id": "c3c79807",
   "metadata": {},
   "outputs": [
    {
     "data": {
      "text/plain": [
       "14"
      ]
     },
     "execution_count": 114,
     "metadata": {},
     "output_type": "execute_result"
    }
   ],
   "source": [
    "arr[2][4]"
   ]
  },
  {
   "cell_type": "code",
   "execution_count": 118,
   "id": "fb28109e",
   "metadata": {},
   "outputs": [
    {
     "data": {
      "text/plain": [
       "array([ 0,  5, 10])"
      ]
     },
     "execution_count": 118,
     "metadata": {},
     "output_type": "execute_result"
    }
   ],
   "source": [
    "arr[:,0]"
   ]
  },
  {
   "cell_type": "code",
   "execution_count": 120,
   "id": "793553d5",
   "metadata": {},
   "outputs": [
    {
     "data": {
      "text/plain": [
       "array([0, 1, 2, 3, 4])"
      ]
     },
     "execution_count": 120,
     "metadata": {},
     "output_type": "execute_result"
    }
   ],
   "source": [
    "arr[0,:]"
   ]
  },
  {
   "cell_type": "code",
   "execution_count": 124,
   "id": "0bf5d2fa-a367-4082-a75b-2c7979801d43",
   "metadata": {},
   "outputs": [
    {
     "data": {
      "text/plain": [
       "array([[0, 1, 2, 3, 4],\n",
       "       [5, 6, 7, 8, 9]])"
      ]
     },
     "execution_count": 124,
     "metadata": {},
     "output_type": "execute_result"
    }
   ],
   "source": [
    "arr[:2]"
   ]
  },
  {
   "cell_type": "code",
   "execution_count": 130,
   "id": "a320055c-bfed-4467-afb4-4e5590728c3a",
   "metadata": {},
   "outputs": [
    {
     "data": {
      "text/plain": [
       "array([[ 5,  6,  7,  8,  9],\n",
       "       [10, 11, 12, 13, 14]])"
      ]
     },
     "execution_count": 130,
     "metadata": {},
     "output_type": "execute_result"
    }
   ],
   "source": [
    "arr[1:3]"
   ]
  },
  {
   "cell_type": "markdown",
   "id": "4a031caf",
   "metadata": {},
   "source": [
    "### Special arrays\n",
    "* useful for dimensioning an array before you aknow what values it will hold"
   ]
  },
  {
   "cell_type": "code",
   "execution_count": 138,
   "id": "65ad950d",
   "metadata": {},
   "outputs": [
    {
     "data": {
      "text/plain": [
       "array([[0., 0., 0., 0., 0.],\n",
       "       [0., 0., 0., 0., 0.],\n",
       "       [0., 0., 0., 0., 0.]])"
      ]
     },
     "execution_count": 138,
     "metadata": {},
     "output_type": "execute_result"
    }
   ],
   "source": [
    "np.zeros(15).reshape(3,5)"
   ]
  },
  {
   "cell_type": "code",
   "execution_count": 140,
   "id": "5a461790",
   "metadata": {},
   "outputs": [
    {
     "data": {
      "text/plain": [
       "array([[1., 1., 1., 1., 1.],\n",
       "       [1., 1., 1., 1., 1.],\n",
       "       [1., 1., 1., 1., 1.],\n",
       "       [1., 1., 1., 1., 1.]])"
      ]
     },
     "execution_count": 140,
     "metadata": {},
     "output_type": "execute_result"
    }
   ],
   "source": [
    "np.ones(20).reshape(4,5)"
   ]
  },
  {
   "cell_type": "code",
   "execution_count": 148,
   "id": "b29ec0c4",
   "metadata": {},
   "outputs": [
    {
     "data": {
      "text/plain": [
       "array([[0., 0., 1., 0., 0.],\n",
       "       [0., 0., 0., 1., 0.],\n",
       "       [0., 0., 0., 0., 1.],\n",
       "       [0., 0., 0., 0., 0.],\n",
       "       [0., 0., 0., 0., 0.],\n",
       "       [0., 0., 0., 0., 0.]])"
      ]
     },
     "execution_count": 148,
     "metadata": {},
     "output_type": "execute_result"
    }
   ],
   "source": [
    "np.eye(6,5, k=2)"
   ]
  },
  {
   "cell_type": "code",
   "execution_count": null,
   "id": "3e417d85",
   "metadata": {},
   "outputs": [],
   "source": []
  },
  {
   "cell_type": "markdown",
   "id": "a449962f",
   "metadata": {},
   "source": [
    "### Working with random numbers\n",
    "* many different distribution options\n",
    "* normal and uniform most common\n",
    "* normal, standard_normal\n",
    "* randn, randint"
   ]
  },
  {
   "cell_type": "markdown",
   "id": "2e026a2e",
   "metadata": {},
   "source": [
    "### Standard normal\n",
    "* mean 0\n",
    "* std 1\n",
    "* takes a single optional argument --> n\n",
    "* `np.random.standard_normal([size])`"
   ]
  },
  {
   "cell_type": "code",
   "execution_count": 152,
   "id": "ab595ac3",
   "metadata": {},
   "outputs": [],
   "source": [
    "from numpy import random as npr"
   ]
  },
  {
   "cell_type": "code",
   "execution_count": 154,
   "id": "c50794d9",
   "metadata": {},
   "outputs": [
    {
     "data": {
      "text/plain": [
       "array([-0.13346826, -0.5200968 , -0.81729832,  0.89829368, -0.51348816,\n",
       "        0.07349558, -0.50764369,  0.21228741, -0.20513472, -0.28022506,\n",
       "        1.69080954,  1.91998026, -0.97533575,  0.94606427, -1.76005503])"
      ]
     },
     "execution_count": 154,
     "metadata": {},
     "output_type": "execute_result"
    }
   ],
   "source": [
    "npr.standard_normal(15)"
   ]
  },
  {
   "cell_type": "markdown",
   "id": "212e10f8",
   "metadata": {},
   "source": [
    "### Uniform Distributions\n",
    "* `np.random.rand(size=None)`\n",
    "* `np.random.randint(low, high=None, size=None, dtype=int)`\n",
    "    * excludes high --> called a half-open interval"
   ]
  },
  {
   "cell_type": "code",
   "execution_count": 237,
   "id": "1692699f",
   "metadata": {},
   "outputs": [
    {
     "data": {
      "text/plain": [
       "array([0.28282685, 0.02525749, 0.99453711])"
      ]
     },
     "execution_count": 237,
     "metadata": {},
     "output_type": "execute_result"
    }
   ],
   "source": [
    "npr.rand(3)"
   ]
  },
  {
   "cell_type": "code",
   "execution_count": 186,
   "id": "823394ab",
   "metadata": {},
   "outputs": [
    {
     "data": {
      "text/plain": [
       "1"
      ]
     },
     "execution_count": 186,
     "metadata": {},
     "output_type": "execute_result"
    }
   ],
   "source": [
    "npr.randint(1,6)"
   ]
  },
  {
   "cell_type": "code",
   "execution_count": null,
   "id": "f8218c0a",
   "metadata": {},
   "outputs": [],
   "source": []
  },
  {
   "cell_type": "code",
   "execution_count": 4,
   "id": "69a93de0",
   "metadata": {},
   "outputs": [],
   "source": [
    "# notice we never get to 6...\n"
   ]
  },
  {
   "cell_type": "code",
   "execution_count": null,
   "id": "09581032",
   "metadata": {},
   "outputs": [],
   "source": []
  },
  {
   "cell_type": "markdown",
   "id": "b834ed8a",
   "metadata": {},
   "source": [
    "### Normal\n",
    "* loc = mean\n",
    "* scale = std\n",
    "* if not specified mean = 0, std = 1"
   ]
  },
  {
   "cell_type": "code",
   "execution_count": 520,
   "id": "0f630557",
   "metadata": {},
   "outputs": [],
   "source": [
    "x = npr.normal(loc=10, scale=5, size = 100)"
   ]
  },
  {
   "cell_type": "code",
   "execution_count": 522,
   "id": "1a3010a8",
   "metadata": {},
   "outputs": [
    {
     "data": {
      "text/plain": [
       "array([ 5.54806558,  3.45132194, 12.39247371,  7.98246583,  6.13320566,\n",
       "       16.64132442, 16.30749735,  6.31219501,  4.15949095, 24.03148737,\n",
       "        3.67979669,  7.61481082, 11.23947141, 10.14811585,  7.83763877,\n",
       "       12.229815  , 11.98919957, -3.69866276, 12.44121956,  4.09408377,\n",
       "        9.5181509 , 13.2155825 ,  0.4351285 , 13.20785653, 11.40225977,\n",
       "       18.13083464,  5.76265831, 14.18683404, 16.72553878, 10.56818488,\n",
       "        7.84144356,  7.79074722, 10.81061446,  3.27933798, 19.6799218 ,\n",
       "       12.89104947,  8.53923524, 12.59076194, 16.11542789, 11.70387626,\n",
       "       17.19619368, 11.55994548, 13.06794396,  8.9174031 , 14.30086751,\n",
       "       12.47422785, 14.90399122,  7.47555249,  0.06408367,  5.24062514,\n",
       "       11.40858844,  9.08520636, 10.67647124,  3.23269322, 13.65703179,\n",
       "        6.89095471, 13.01748186, 16.15901827, 13.11951059, 17.10937351,\n",
       "        7.60069688,  6.08749487, 15.18430415,  4.92910218, 12.04416807,\n",
       "       12.16236879, 11.24631976, 14.13309454,  3.19888941,  6.80090824,\n",
       "       11.93996208,  1.72897433,  8.47756187, 17.01742803,  8.19848312,\n",
       "        6.11284635,  9.54323671, 10.36775838,  8.5291049 , 11.59267714,\n",
       "       10.41655055,  5.59595895, 11.4290139 , 17.36674671, 14.08240152,\n",
       "        6.7576651 ,  9.50732485, 14.54336595,  7.9101409 ,  8.51196073,\n",
       "        6.37600185,  3.98317049,  8.61031749, 12.10875176, 10.91629128,\n",
       "       10.87780803,  9.31951366, 11.40548021, 11.18779238, 16.06246182])"
      ]
     },
     "execution_count": 522,
     "metadata": {},
     "output_type": "execute_result"
    }
   ],
   "source": [
    "x"
   ]
  },
  {
   "cell_type": "code",
   "execution_count": 524,
   "id": "6088426d",
   "metadata": {},
   "outputs": [
    {
     "name": "stdout",
     "output_type": "stream",
     "text": [
      "10.183517231561826\n",
      "4.608432671141952\n",
      "24.03148737102095\n",
      "-3.698662756910327\n"
     ]
    }
   ],
   "source": [
    "print(x.mean())\n",
    "print(x.std())\n",
    "print(x.max())\n",
    "print(x.min())\n",
    "# there is no median method"
   ]
  },
  {
   "cell_type": "code",
   "execution_count": null,
   "id": "1bb5ac5d",
   "metadata": {},
   "outputs": [],
   "source": []
  },
  {
   "cell_type": "markdown",
   "id": "82aceac8",
   "metadata": {},
   "source": [
    "### Simple Linear Modeling"
   ]
  },
  {
   "cell_type": "code",
   "execution_count": 532,
   "id": "df625293",
   "metadata": {},
   "outputs": [],
   "source": [
    "x = npr.normal(size = 50)\n",
    "y = x + npr.normal(loc = 10, scale = 2, size = 50)"
   ]
  },
  {
   "cell_type": "code",
   "execution_count": 534,
   "id": "abbdc52e",
   "metadata": {},
   "outputs": [
    {
     "data": {
      "text/plain": [
       "array([[1.        , 0.40751276],\n",
       "       [0.40751276, 1.        ]])"
      ]
     },
     "execution_count": 534,
     "metadata": {},
     "output_type": "execute_result"
    }
   ],
   "source": [
    "np.corrcoef(x,y)"
   ]
  },
  {
   "cell_type": "code",
   "execution_count": null,
   "id": "7a4964ea",
   "metadata": {},
   "outputs": [],
   "source": []
  },
  {
   "cell_type": "code",
   "execution_count": 544,
   "id": "833219ca",
   "metadata": {},
   "outputs": [
    {
     "name": "stdout",
     "output_type": "stream",
     "text": [
      "0.7911241567610863\n",
      "10.395009669774094\n"
     ]
    }
   ],
   "source": [
    "slope, intercept = np.polyfit(x,y, deg=1)\n",
    "print(slope)\n",
    "print(intercept)"
   ]
  },
  {
   "cell_type": "markdown",
   "id": "a5b13c1e",
   "metadata": {},
   "source": [
    "### More syntactically intense method to do the same thing\n",
    "* Requires a \"dummy\" variable next to actual x variable\n",
    "* The rcond allows for special handling of extremely small values "
   ]
  },
  {
   "cell_type": "code",
   "execution_count": null,
   "id": "254e2bba",
   "metadata": {},
   "outputs": [],
   "source": []
  },
  {
   "cell_type": "code",
   "execution_count": null,
   "id": "a6b2b57c",
   "metadata": {},
   "outputs": [],
   "source": []
  },
  {
   "cell_type": "code",
   "execution_count": null,
   "id": "3c438eda",
   "metadata": {},
   "outputs": [],
   "source": []
  },
  {
   "cell_type": "markdown",
   "id": "bc96861f",
   "metadata": {},
   "source": [
    "### Fill array with uniformly spaced data points between a minimum and maximum"
   ]
  },
  {
   "cell_type": "code",
   "execution_count": 546,
   "id": "c0289a00",
   "metadata": {},
   "outputs": [
    {
     "data": {
      "text/plain": [
       "array([-4.        , -3.91919192, -3.83838384, -3.75757576, -3.67676768,\n",
       "       -3.5959596 , -3.51515152, -3.43434343, -3.35353535, -3.27272727,\n",
       "       -3.19191919, -3.11111111, -3.03030303, -2.94949495, -2.86868687,\n",
       "       -2.78787879, -2.70707071, -2.62626263, -2.54545455, -2.46464646,\n",
       "       -2.38383838, -2.3030303 , -2.22222222, -2.14141414, -2.06060606,\n",
       "       -1.97979798, -1.8989899 , -1.81818182, -1.73737374, -1.65656566,\n",
       "       -1.57575758, -1.49494949, -1.41414141, -1.33333333, -1.25252525,\n",
       "       -1.17171717, -1.09090909, -1.01010101, -0.92929293, -0.84848485,\n",
       "       -0.76767677, -0.68686869, -0.60606061, -0.52525253, -0.44444444,\n",
       "       -0.36363636, -0.28282828, -0.2020202 , -0.12121212, -0.04040404,\n",
       "        0.04040404,  0.12121212,  0.2020202 ,  0.28282828,  0.36363636,\n",
       "        0.44444444,  0.52525253,  0.60606061,  0.68686869,  0.76767677,\n",
       "        0.84848485,  0.92929293,  1.01010101,  1.09090909,  1.17171717,\n",
       "        1.25252525,  1.33333333,  1.41414141,  1.49494949,  1.57575758,\n",
       "        1.65656566,  1.73737374,  1.81818182,  1.8989899 ,  1.97979798,\n",
       "        2.06060606,  2.14141414,  2.22222222,  2.3030303 ,  2.38383838,\n",
       "        2.46464646,  2.54545455,  2.62626263,  2.70707071,  2.78787879,\n",
       "        2.86868687,  2.94949495,  3.03030303,  3.11111111,  3.19191919,\n",
       "        3.27272727,  3.35353535,  3.43434343,  3.51515152,  3.5959596 ,\n",
       "        3.67676768,  3.75757576,  3.83838384,  3.91919192,  4.        ])"
      ]
     },
     "execution_count": 546,
     "metadata": {},
     "output_type": "execute_result"
    }
   ],
   "source": [
    "np.linspace(-4,4, 100)"
   ]
  },
  {
   "cell_type": "code",
   "execution_count": null,
   "id": "03355598",
   "metadata": {},
   "outputs": [],
   "source": []
  }
 ],
 "metadata": {
  "kernelspec": {
   "display_name": "Python 3 (ipykernel)",
   "language": "python",
   "name": "python3"
  },
  "language_info": {
   "codemirror_mode": {
    "name": "ipython",
    "version": 3
   },
   "file_extension": ".py",
   "mimetype": "text/x-python",
   "name": "python",
   "nbconvert_exporter": "python",
   "pygments_lexer": "ipython3",
   "version": "3.12.7"
  }
 },
 "nbformat": 4,
 "nbformat_minor": 5
}
