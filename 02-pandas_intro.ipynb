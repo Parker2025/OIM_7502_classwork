{
 "cells": [
  {
   "cell_type": "markdown",
   "id": "e8e154a9",
   "metadata": {},
   "source": [
    "# Introduction to pandas\n",
    "* The premier data science library\n",
    "* The name pandas derives from panel data \n",
    "* Has two main objects : DataFrame, Series\n",
    "* Is a wrapper around, among other libraries, NumPy and matplotlib\n",
    "* Series is a vector of data with an index\n",
    "* DataFrame is a collection of Series with a single index (columns are also an index)\n",
    "* Was developed by a quant working for a hedge fund, long since semi-retired by the age of about 27\n"
   ]
  },
  {
   "cell_type": "code",
   "execution_count": 1,
   "id": "d0586696",
   "metadata": {},
   "outputs": [],
   "source": [
    "import matplotlib as plt\n",
    "import numpy as np\n",
    "import numpy.random as npr\n",
    "import pandas as pd"
   ]
  },
  {
   "cell_type": "code",
   "execution_count": 3,
   "id": "85659a67",
   "metadata": {},
   "outputs": [
    {
     "name": "stdout",
     "output_type": "stream",
     "text": [
      "2.2.2\n",
      "1.26.4\n",
      "3.9.2\n"
     ]
    }
   ],
   "source": [
    "print(pd.__version__)\n",
    "print(np.__version__)\n",
    "print(plt.__version__)"
   ]
  },
  {
   "cell_type": "markdown",
   "id": "67835cf6",
   "metadata": {},
   "source": [
    "### 1. make a Series"
   ]
  },
  {
   "cell_type": "code",
   "execution_count": 27,
   "id": "70856078",
   "metadata": {},
   "outputs": [
    {
     "data": {
      "text/plain": [
       "0    0.450390\n",
       "1    0.900122\n",
       "2    0.048221\n",
       "3    0.644890\n",
       "4    0.984342\n",
       "5    0.176996\n",
       "6    0.822800\n",
       "7    0.692292\n",
       "8    0.601607\n",
       "9    0.671082\n",
       "dtype: float64"
      ]
     },
     "execution_count": 27,
     "metadata": {},
     "output_type": "execute_result"
    }
   ],
   "source": [
    "norms = pd.Series(npr.standard_normal(10))\n",
    "rands = pd.Series(npr.rand(10))\n",
    "rands"
   ]
  },
  {
   "cell_type": "code",
   "execution_count": 29,
   "id": "ec0da83e",
   "metadata": {},
   "outputs": [
    {
     "data": {
      "text/plain": [
       "0.11990127792513527"
      ]
     },
     "execution_count": 29,
     "metadata": {},
     "output_type": "execute_result"
    }
   ],
   "source": [
    "norms.mean()"
   ]
  },
  {
   "cell_type": "code",
   "execution_count": null,
   "id": "cfca51c6",
   "metadata": {},
   "outputs": [],
   "source": []
  },
  {
   "cell_type": "code",
   "execution_count": null,
   "id": "a43d5419",
   "metadata": {},
   "outputs": [],
   "source": []
  },
  {
   "cell_type": "code",
   "execution_count": null,
   "id": "bd9fa612",
   "metadata": {},
   "outputs": [],
   "source": []
  },
  {
   "cell_type": "markdown",
   "id": "d98eb274",
   "metadata": {},
   "source": [
    "### 2. make a DataFrame"
   ]
  },
  {
   "cell_type": "code",
   "execution_count": 35,
   "id": "b3e8dad1",
   "metadata": {},
   "outputs": [
    {
     "data": {
      "text/html": [
       "<div>\n",
       "<style scoped>\n",
       "    .dataframe tbody tr th:only-of-type {\n",
       "        vertical-align: middle;\n",
       "    }\n",
       "\n",
       "    .dataframe tbody tr th {\n",
       "        vertical-align: top;\n",
       "    }\n",
       "\n",
       "    .dataframe thead th {\n",
       "        text-align: right;\n",
       "    }\n",
       "</style>\n",
       "<table border=\"1\" class=\"dataframe\">\n",
       "  <thead>\n",
       "    <tr style=\"text-align: right;\">\n",
       "      <th></th>\n",
       "      <th>0</th>\n",
       "      <th>1</th>\n",
       "      <th>2</th>\n",
       "      <th>3</th>\n",
       "      <th>4</th>\n",
       "      <th>5</th>\n",
       "      <th>6</th>\n",
       "      <th>7</th>\n",
       "      <th>8</th>\n",
       "      <th>9</th>\n",
       "    </tr>\n",
       "  </thead>\n",
       "  <tbody>\n",
       "    <tr>\n",
       "      <th>0</th>\n",
       "      <td>0.450390</td>\n",
       "      <td>0.900122</td>\n",
       "      <td>0.048221</td>\n",
       "      <td>0.644890</td>\n",
       "      <td>0.984342</td>\n",
       "      <td>0.176996</td>\n",
       "      <td>0.822800</td>\n",
       "      <td>0.692292</td>\n",
       "      <td>0.601607</td>\n",
       "      <td>0.671082</td>\n",
       "    </tr>\n",
       "    <tr>\n",
       "      <th>1</th>\n",
       "      <td>-0.343378</td>\n",
       "      <td>0.642580</td>\n",
       "      <td>0.138780</td>\n",
       "      <td>-1.922269</td>\n",
       "      <td>1.393787</td>\n",
       "      <td>-0.508849</td>\n",
       "      <td>0.927443</td>\n",
       "      <td>0.466294</td>\n",
       "      <td>1.506709</td>\n",
       "      <td>-1.102084</td>\n",
       "    </tr>\n",
       "  </tbody>\n",
       "</table>\n",
       "</div>"
      ],
      "text/plain": [
       "          0         1         2         3         4         5         6  \\\n",
       "0  0.450390  0.900122  0.048221  0.644890  0.984342  0.176996  0.822800   \n",
       "1 -0.343378  0.642580  0.138780 -1.922269  1.393787 -0.508849  0.927443   \n",
       "\n",
       "          7         8         9  \n",
       "0  0.692292  0.601607  0.671082  \n",
       "1  0.466294  1.506709 -1.102084  "
      ]
     },
     "execution_count": 35,
     "metadata": {},
     "output_type": "execute_result"
    }
   ],
   "source": [
    "df = pd.DataFrame([rands, norms])\n",
    "df"
   ]
  },
  {
   "cell_type": "code",
   "execution_count": 59,
   "id": "dc23d2c8",
   "metadata": {},
   "outputs": [],
   "source": [
    "df = df.T"
   ]
  },
  {
   "cell_type": "code",
   "execution_count": 61,
   "id": "1516287d",
   "metadata": {},
   "outputs": [
    {
     "data": {
      "text/html": [
       "<div>\n",
       "<style scoped>\n",
       "    .dataframe tbody tr th:only-of-type {\n",
       "        vertical-align: middle;\n",
       "    }\n",
       "\n",
       "    .dataframe tbody tr th {\n",
       "        vertical-align: top;\n",
       "    }\n",
       "\n",
       "    .dataframe thead th {\n",
       "        text-align: right;\n",
       "    }\n",
       "</style>\n",
       "<table border=\"1\" class=\"dataframe\">\n",
       "  <thead>\n",
       "    <tr style=\"text-align: right;\">\n",
       "      <th></th>\n",
       "      <th>0</th>\n",
       "      <th>1</th>\n",
       "    </tr>\n",
       "  </thead>\n",
       "  <tbody>\n",
       "    <tr>\n",
       "      <th>0</th>\n",
       "      <td>0.450390</td>\n",
       "      <td>-0.343378</td>\n",
       "    </tr>\n",
       "    <tr>\n",
       "      <th>1</th>\n",
       "      <td>0.900122</td>\n",
       "      <td>0.642580</td>\n",
       "    </tr>\n",
       "    <tr>\n",
       "      <th>2</th>\n",
       "      <td>0.048221</td>\n",
       "      <td>0.138780</td>\n",
       "    </tr>\n",
       "    <tr>\n",
       "      <th>3</th>\n",
       "      <td>0.644890</td>\n",
       "      <td>-1.922269</td>\n",
       "    </tr>\n",
       "    <tr>\n",
       "      <th>4</th>\n",
       "      <td>0.984342</td>\n",
       "      <td>1.393787</td>\n",
       "    </tr>\n",
       "    <tr>\n",
       "      <th>5</th>\n",
       "      <td>0.176996</td>\n",
       "      <td>-0.508849</td>\n",
       "    </tr>\n",
       "    <tr>\n",
       "      <th>6</th>\n",
       "      <td>0.822800</td>\n",
       "      <td>0.927443</td>\n",
       "    </tr>\n",
       "    <tr>\n",
       "      <th>7</th>\n",
       "      <td>0.692292</td>\n",
       "      <td>0.466294</td>\n",
       "    </tr>\n",
       "    <tr>\n",
       "      <th>8</th>\n",
       "      <td>0.601607</td>\n",
       "      <td>1.506709</td>\n",
       "    </tr>\n",
       "    <tr>\n",
       "      <th>9</th>\n",
       "      <td>0.671082</td>\n",
       "      <td>-1.102084</td>\n",
       "    </tr>\n",
       "  </tbody>\n",
       "</table>\n",
       "</div>"
      ],
      "text/plain": [
       "          0         1\n",
       "0  0.450390 -0.343378\n",
       "1  0.900122  0.642580\n",
       "2  0.048221  0.138780\n",
       "3  0.644890 -1.922269\n",
       "4  0.984342  1.393787\n",
       "5  0.176996 -0.508849\n",
       "6  0.822800  0.927443\n",
       "7  0.692292  0.466294\n",
       "8  0.601607  1.506709\n",
       "9  0.671082 -1.102084"
      ]
     },
     "execution_count": 61,
     "metadata": {},
     "output_type": "execute_result"
    }
   ],
   "source": [
    "df"
   ]
  },
  {
   "cell_type": "code",
   "execution_count": 65,
   "id": "42eda0df",
   "metadata": {},
   "outputs": [
    {
     "data": {
      "text/plain": [
       "0    0.599274\n",
       "1    0.119901\n",
       "dtype: float64"
      ]
     },
     "execution_count": 65,
     "metadata": {},
     "output_type": "execute_result"
    }
   ],
   "source": [
    "df.mean(axis = 1)\n",
    "df.mean(axis = 0)"
   ]
  },
  {
   "cell_type": "code",
   "execution_count": 67,
   "id": "a89930df",
   "metadata": {},
   "outputs": [
    {
     "data": {
      "text/html": [
       "<div>\n",
       "<style scoped>\n",
       "    .dataframe tbody tr th:only-of-type {\n",
       "        vertical-align: middle;\n",
       "    }\n",
       "\n",
       "    .dataframe tbody tr th {\n",
       "        vertical-align: top;\n",
       "    }\n",
       "\n",
       "    .dataframe thead th {\n",
       "        text-align: right;\n",
       "    }\n",
       "</style>\n",
       "<table border=\"1\" class=\"dataframe\">\n",
       "  <thead>\n",
       "    <tr style=\"text-align: right;\">\n",
       "      <th></th>\n",
       "      <th>0</th>\n",
       "      <th>1</th>\n",
       "    </tr>\n",
       "  </thead>\n",
       "  <tbody>\n",
       "    <tr>\n",
       "      <th>count</th>\n",
       "      <td>10.000000</td>\n",
       "      <td>10.000000</td>\n",
       "    </tr>\n",
       "    <tr>\n",
       "      <th>mean</th>\n",
       "      <td>0.599274</td>\n",
       "      <td>0.119901</td>\n",
       "    </tr>\n",
       "    <tr>\n",
       "      <th>std</th>\n",
       "      <td>0.299776</td>\n",
       "      <td>1.098754</td>\n",
       "    </tr>\n",
       "    <tr>\n",
       "      <th>min</th>\n",
       "      <td>0.048221</td>\n",
       "      <td>-1.922269</td>\n",
       "    </tr>\n",
       "    <tr>\n",
       "      <th>25%</th>\n",
       "      <td>0.488194</td>\n",
       "      <td>-0.467482</td>\n",
       "    </tr>\n",
       "    <tr>\n",
       "      <th>50%</th>\n",
       "      <td>0.657986</td>\n",
       "      <td>0.302537</td>\n",
       "    </tr>\n",
       "    <tr>\n",
       "      <th>75%</th>\n",
       "      <td>0.790173</td>\n",
       "      <td>0.856228</td>\n",
       "    </tr>\n",
       "    <tr>\n",
       "      <th>max</th>\n",
       "      <td>0.984342</td>\n",
       "      <td>1.506709</td>\n",
       "    </tr>\n",
       "  </tbody>\n",
       "</table>\n",
       "</div>"
      ],
      "text/plain": [
       "               0          1\n",
       "count  10.000000  10.000000\n",
       "mean    0.599274   0.119901\n",
       "std     0.299776   1.098754\n",
       "min     0.048221  -1.922269\n",
       "25%     0.488194  -0.467482\n",
       "50%     0.657986   0.302537\n",
       "75%     0.790173   0.856228\n",
       "max     0.984342   1.506709"
      ]
     },
     "execution_count": 67,
     "metadata": {},
     "output_type": "execute_result"
    }
   ],
   "source": [
    "df.describe()"
   ]
  },
  {
   "cell_type": "code",
   "execution_count": null,
   "id": "3da661d6",
   "metadata": {},
   "outputs": [],
   "source": []
  },
  {
   "cell_type": "code",
   "execution_count": 81,
   "id": "ecc48d97",
   "metadata": {},
   "outputs": [],
   "source": [
    "data = pd.read_csv('GBTC.csv')"
   ]
  },
  {
   "cell_type": "code",
   "execution_count": 83,
   "id": "c51d1e88",
   "metadata": {},
   "outputs": [
    {
     "data": {
      "text/html": [
       "<div>\n",
       "<style scoped>\n",
       "    .dataframe tbody tr th:only-of-type {\n",
       "        vertical-align: middle;\n",
       "    }\n",
       "\n",
       "    .dataframe tbody tr th {\n",
       "        vertical-align: top;\n",
       "    }\n",
       "\n",
       "    .dataframe thead th {\n",
       "        text-align: right;\n",
       "    }\n",
       "</style>\n",
       "<table border=\"1\" class=\"dataframe\">\n",
       "  <thead>\n",
       "    <tr style=\"text-align: right;\">\n",
       "      <th></th>\n",
       "      <th>Date</th>\n",
       "      <th>Open</th>\n",
       "      <th>High</th>\n",
       "      <th>Low</th>\n",
       "      <th>Close</th>\n",
       "      <th>Adj Close</th>\n",
       "      <th>Volume</th>\n",
       "    </tr>\n",
       "  </thead>\n",
       "  <tbody>\n",
       "    <tr>\n",
       "      <th>0</th>\n",
       "      <td>2022-12-15</td>\n",
       "      <td>8.210000</td>\n",
       "      <td>8.353000</td>\n",
       "      <td>8.140000</td>\n",
       "      <td>8.300000</td>\n",
       "      <td>8.300000</td>\n",
       "      <td>2934400</td>\n",
       "    </tr>\n",
       "    <tr>\n",
       "      <th>1</th>\n",
       "      <td>2022-12-16</td>\n",
       "      <td>8.055000</td>\n",
       "      <td>8.130000</td>\n",
       "      <td>7.900000</td>\n",
       "      <td>7.930000</td>\n",
       "      <td>7.930000</td>\n",
       "      <td>3795900</td>\n",
       "    </tr>\n",
       "    <tr>\n",
       "      <th>2</th>\n",
       "      <td>2022-12-19</td>\n",
       "      <td>7.935000</td>\n",
       "      <td>8.400000</td>\n",
       "      <td>7.930000</td>\n",
       "      <td>8.130000</td>\n",
       "      <td>8.130000</td>\n",
       "      <td>3558400</td>\n",
       "    </tr>\n",
       "    <tr>\n",
       "      <th>3</th>\n",
       "      <td>2022-12-20</td>\n",
       "      <td>8.125000</td>\n",
       "      <td>8.300000</td>\n",
       "      <td>7.840000</td>\n",
       "      <td>8.080000</td>\n",
       "      <td>8.080000</td>\n",
       "      <td>3390300</td>\n",
       "    </tr>\n",
       "    <tr>\n",
       "      <th>4</th>\n",
       "      <td>2022-12-21</td>\n",
       "      <td>8.000000</td>\n",
       "      <td>8.070000</td>\n",
       "      <td>7.920000</td>\n",
       "      <td>8.050000</td>\n",
       "      <td>8.050000</td>\n",
       "      <td>2538200</td>\n",
       "    </tr>\n",
       "    <tr>\n",
       "      <th>...</th>\n",
       "      <td>...</td>\n",
       "      <td>...</td>\n",
       "      <td>...</td>\n",
       "      <td>...</td>\n",
       "      <td>...</td>\n",
       "      <td>...</td>\n",
       "      <td>...</td>\n",
       "    </tr>\n",
       "    <tr>\n",
       "      <th>247</th>\n",
       "      <td>2023-12-11</td>\n",
       "      <td>33.520000</td>\n",
       "      <td>33.750000</td>\n",
       "      <td>31.930000</td>\n",
       "      <td>32.459999</td>\n",
       "      <td>32.459999</td>\n",
       "      <td>7478900</td>\n",
       "    </tr>\n",
       "    <tr>\n",
       "      <th>248</th>\n",
       "      <td>2023-12-12</td>\n",
       "      <td>32.939999</td>\n",
       "      <td>33.590000</td>\n",
       "      <td>32.810001</td>\n",
       "      <td>33.419998</td>\n",
       "      <td>33.419998</td>\n",
       "      <td>4411500</td>\n",
       "    </tr>\n",
       "    <tr>\n",
       "      <th>249</th>\n",
       "      <td>2023-12-13</td>\n",
       "      <td>33.470001</td>\n",
       "      <td>35.619999</td>\n",
       "      <td>33.400002</td>\n",
       "      <td>35.590000</td>\n",
       "      <td>35.590000</td>\n",
       "      <td>6212200</td>\n",
       "    </tr>\n",
       "    <tr>\n",
       "      <th>250</th>\n",
       "      <td>2023-12-14</td>\n",
       "      <td>35.209999</td>\n",
       "      <td>35.330002</td>\n",
       "      <td>34.417999</td>\n",
       "      <td>34.900002</td>\n",
       "      <td>34.900002</td>\n",
       "      <td>5263500</td>\n",
       "    </tr>\n",
       "    <tr>\n",
       "      <th>251</th>\n",
       "      <td>2023-12-15</td>\n",
       "      <td>34.349998</td>\n",
       "      <td>34.400002</td>\n",
       "      <td>33.599998</td>\n",
       "      <td>33.619999</td>\n",
       "      <td>33.619999</td>\n",
       "      <td>1876793</td>\n",
       "    </tr>\n",
       "  </tbody>\n",
       "</table>\n",
       "<p>252 rows × 7 columns</p>\n",
       "</div>"
      ],
      "text/plain": [
       "           Date       Open       High        Low      Close  Adj Close  \\\n",
       "0    2022-12-15   8.210000   8.353000   8.140000   8.300000   8.300000   \n",
       "1    2022-12-16   8.055000   8.130000   7.900000   7.930000   7.930000   \n",
       "2    2022-12-19   7.935000   8.400000   7.930000   8.130000   8.130000   \n",
       "3    2022-12-20   8.125000   8.300000   7.840000   8.080000   8.080000   \n",
       "4    2022-12-21   8.000000   8.070000   7.920000   8.050000   8.050000   \n",
       "..          ...        ...        ...        ...        ...        ...   \n",
       "247  2023-12-11  33.520000  33.750000  31.930000  32.459999  32.459999   \n",
       "248  2023-12-12  32.939999  33.590000  32.810001  33.419998  33.419998   \n",
       "249  2023-12-13  33.470001  35.619999  33.400002  35.590000  35.590000   \n",
       "250  2023-12-14  35.209999  35.330002  34.417999  34.900002  34.900002   \n",
       "251  2023-12-15  34.349998  34.400002  33.599998  33.619999  33.619999   \n",
       "\n",
       "      Volume  \n",
       "0    2934400  \n",
       "1    3795900  \n",
       "2    3558400  \n",
       "3    3390300  \n",
       "4    2538200  \n",
       "..       ...  \n",
       "247  7478900  \n",
       "248  4411500  \n",
       "249  6212200  \n",
       "250  5263500  \n",
       "251  1876793  \n",
       "\n",
       "[252 rows x 7 columns]"
      ]
     },
     "execution_count": 83,
     "metadata": {},
     "output_type": "execute_result"
    }
   ],
   "source": [
    "data"
   ]
  },
  {
   "cell_type": "code",
   "execution_count": 87,
   "id": "7344f90a-41b2-4554-a04c-9b6fd0fc76fd",
   "metadata": {},
   "outputs": [
    {
     "data": {
      "text/html": [
       "<div>\n",
       "<style scoped>\n",
       "    .dataframe tbody tr th:only-of-type {\n",
       "        vertical-align: middle;\n",
       "    }\n",
       "\n",
       "    .dataframe tbody tr th {\n",
       "        vertical-align: top;\n",
       "    }\n",
       "\n",
       "    .dataframe thead th {\n",
       "        text-align: right;\n",
       "    }\n",
       "</style>\n",
       "<table border=\"1\" class=\"dataframe\">\n",
       "  <thead>\n",
       "    <tr style=\"text-align: right;\">\n",
       "      <th></th>\n",
       "      <th>Date</th>\n",
       "      <th>Open</th>\n",
       "      <th>High</th>\n",
       "      <th>Low</th>\n",
       "      <th>Close</th>\n",
       "      <th>Adj Close</th>\n",
       "      <th>Volume</th>\n",
       "      <th>Change</th>\n",
       "    </tr>\n",
       "  </thead>\n",
       "  <tbody>\n",
       "    <tr>\n",
       "      <th>247</th>\n",
       "      <td>2023-12-11</td>\n",
       "      <td>33.520000</td>\n",
       "      <td>33.750000</td>\n",
       "      <td>31.930000</td>\n",
       "      <td>32.459999</td>\n",
       "      <td>32.459999</td>\n",
       "      <td>7478900</td>\n",
       "      <td>-0.085891</td>\n",
       "    </tr>\n",
       "    <tr>\n",
       "      <th>248</th>\n",
       "      <td>2023-12-12</td>\n",
       "      <td>32.939999</td>\n",
       "      <td>33.590000</td>\n",
       "      <td>32.810001</td>\n",
       "      <td>33.419998</td>\n",
       "      <td>33.419998</td>\n",
       "      <td>4411500</td>\n",
       "      <td>0.029575</td>\n",
       "    </tr>\n",
       "    <tr>\n",
       "      <th>249</th>\n",
       "      <td>2023-12-13</td>\n",
       "      <td>33.470001</td>\n",
       "      <td>35.619999</td>\n",
       "      <td>33.400002</td>\n",
       "      <td>35.590000</td>\n",
       "      <td>35.590000</td>\n",
       "      <td>6212200</td>\n",
       "      <td>0.064931</td>\n",
       "    </tr>\n",
       "    <tr>\n",
       "      <th>250</th>\n",
       "      <td>2023-12-14</td>\n",
       "      <td>35.209999</td>\n",
       "      <td>35.330002</td>\n",
       "      <td>34.417999</td>\n",
       "      <td>34.900002</td>\n",
       "      <td>34.900002</td>\n",
       "      <td>5263500</td>\n",
       "      <td>-0.019387</td>\n",
       "    </tr>\n",
       "    <tr>\n",
       "      <th>251</th>\n",
       "      <td>2023-12-15</td>\n",
       "      <td>34.349998</td>\n",
       "      <td>34.400002</td>\n",
       "      <td>33.599998</td>\n",
       "      <td>33.619999</td>\n",
       "      <td>33.619999</td>\n",
       "      <td>1876793</td>\n",
       "      <td>-0.036676</td>\n",
       "    </tr>\n",
       "  </tbody>\n",
       "</table>\n",
       "</div>"
      ],
      "text/plain": [
       "           Date       Open       High        Low      Close  Adj Close  \\\n",
       "247  2023-12-11  33.520000  33.750000  31.930000  32.459999  32.459999   \n",
       "248  2023-12-12  32.939999  33.590000  32.810001  33.419998  33.419998   \n",
       "249  2023-12-13  33.470001  35.619999  33.400002  35.590000  35.590000   \n",
       "250  2023-12-14  35.209999  35.330002  34.417999  34.900002  34.900002   \n",
       "251  2023-12-15  34.349998  34.400002  33.599998  33.619999  33.619999   \n",
       "\n",
       "      Volume    Change  \n",
       "247  7478900 -0.085891  \n",
       "248  4411500  0.029575  \n",
       "249  6212200  0.064931  \n",
       "250  5263500 -0.019387  \n",
       "251  1876793 -0.036676  "
      ]
     },
     "execution_count": 87,
     "metadata": {},
     "output_type": "execute_result"
    }
   ],
   "source": [
    "data.tail(5)"
   ]
  },
  {
   "cell_type": "code",
   "execution_count": 85,
   "id": "aa7bd1e2",
   "metadata": {},
   "outputs": [
    {
     "ename": "AttributeError",
     "evalue": "'DataFrame' object has no attribute 'open'",
     "output_type": "error",
     "traceback": [
      "\u001b[1;31m---------------------------------------------------------------------------\u001b[0m",
      "\u001b[1;31mAttributeError\u001b[0m                            Traceback (most recent call last)",
      "\u001b[1;32m~\\AppData\\Local\\Temp\\ipykernel_15632\\239410953.py\u001b[0m in \u001b[0;36m?\u001b[1;34m()\u001b[0m\n\u001b[0;32m      1\u001b[0m \u001b[0mdata\u001b[0m\u001b[1;33m[\u001b[0m\u001b[1;34m'Change'\u001b[0m\u001b[1;33m]\u001b[0m \u001b[1;33m=\u001b[0m \u001b[0mdata\u001b[0m\u001b[1;33m[\u001b[0m\u001b[1;34m'Close'\u001b[0m\u001b[1;33m]\u001b[0m\u001b[1;33m.\u001b[0m\u001b[0mpct_change\u001b[0m\u001b[1;33m(\u001b[0m\u001b[1;33m)\u001b[0m\u001b[1;33m\u001b[0m\u001b[1;33m\u001b[0m\u001b[0m\n\u001b[1;32m----> 2\u001b[1;33m \u001b[0mdata\u001b[0m\u001b[1;33m[\u001b[0m\u001b[1;34m'Range'\u001b[0m\u001b[1;33m]\u001b[0m \u001b[1;33m=\u001b[0m \u001b[1;33m(\u001b[0m\u001b[0mdata\u001b[0m\u001b[1;33m[\u001b[0m\u001b[1;34m'Close'\u001b[0m\u001b[1;33m]\u001b[0m \u001b[1;33m-\u001b[0m \u001b[0mdata\u001b[0m\u001b[1;33m.\u001b[0m\u001b[0mopen\u001b[0m\u001b[1;33m)\u001b[0m\u001b[1;33m.\u001b[0m\u001b[0mabs\u001b[0m\u001b[1;33m(\u001b[0m\u001b[1;33m)\u001b[0m\u001b[1;33m\u001b[0m\u001b[1;33m\u001b[0m\u001b[0m\n\u001b[0m\u001b[0;32m      3\u001b[0m \u001b[0mdata\u001b[0m\u001b[1;33m.\u001b[0m\u001b[0mdropna\u001b[0m\u001b[1;33m(\u001b[0m\u001b[0minplace\u001b[0m\u001b[1;33m=\u001b[0m\u001b[1;32mTrue\u001b[0m\u001b[1;33m)\u001b[0m\u001b[1;33m\u001b[0m\u001b[1;33m\u001b[0m\u001b[0m\n",
      "\u001b[1;32m~\\anaconda3\\Lib\\site-packages\\pandas\\core\\generic.py\u001b[0m in \u001b[0;36m?\u001b[1;34m(self, name)\u001b[0m\n\u001b[0;32m   6295\u001b[0m             \u001b[1;32mand\u001b[0m \u001b[0mname\u001b[0m \u001b[1;32mnot\u001b[0m \u001b[1;32min\u001b[0m \u001b[0mself\u001b[0m\u001b[1;33m.\u001b[0m\u001b[0m_accessors\u001b[0m\u001b[1;33m\u001b[0m\u001b[1;33m\u001b[0m\u001b[0m\n\u001b[0;32m   6296\u001b[0m             \u001b[1;32mand\u001b[0m \u001b[0mself\u001b[0m\u001b[1;33m.\u001b[0m\u001b[0m_info_axis\u001b[0m\u001b[1;33m.\u001b[0m\u001b[0m_can_hold_identifiers_and_holds_name\u001b[0m\u001b[1;33m(\u001b[0m\u001b[0mname\u001b[0m\u001b[1;33m)\u001b[0m\u001b[1;33m\u001b[0m\u001b[1;33m\u001b[0m\u001b[0m\n\u001b[0;32m   6297\u001b[0m         \u001b[1;33m)\u001b[0m\u001b[1;33m:\u001b[0m\u001b[1;33m\u001b[0m\u001b[1;33m\u001b[0m\u001b[0m\n\u001b[0;32m   6298\u001b[0m             \u001b[1;32mreturn\u001b[0m \u001b[0mself\u001b[0m\u001b[1;33m[\u001b[0m\u001b[0mname\u001b[0m\u001b[1;33m]\u001b[0m\u001b[1;33m\u001b[0m\u001b[1;33m\u001b[0m\u001b[0m\n\u001b[1;32m-> 6299\u001b[1;33m         \u001b[1;32mreturn\u001b[0m \u001b[0mobject\u001b[0m\u001b[1;33m.\u001b[0m\u001b[0m__getattribute__\u001b[0m\u001b[1;33m(\u001b[0m\u001b[0mself\u001b[0m\u001b[1;33m,\u001b[0m \u001b[0mname\u001b[0m\u001b[1;33m)\u001b[0m\u001b[1;33m\u001b[0m\u001b[1;33m\u001b[0m\u001b[0m\n\u001b[0m",
      "\u001b[1;31mAttributeError\u001b[0m: 'DataFrame' object has no attribute 'open'"
     ]
    }
   ],
   "source": [
    "data['Change'] = data['Close'].pct_change()\n",
    "data['Range'] = (data['Close'] - data.open).abs()\n",
    "data.dropna(inplace=True)"
   ]
  },
  {
   "cell_type": "code",
   "execution_count": null,
   "id": "90cb950e",
   "metadata": {},
   "outputs": [],
   "source": []
  },
  {
   "cell_type": "code",
   "execution_count": 95,
   "id": "eee022e1",
   "metadata": {},
   "outputs": [
    {
     "data": {
      "text/html": [
       "<div>\n",
       "<style scoped>\n",
       "    .dataframe tbody tr th:only-of-type {\n",
       "        vertical-align: middle;\n",
       "    }\n",
       "\n",
       "    .dataframe tbody tr th {\n",
       "        vertical-align: top;\n",
       "    }\n",
       "\n",
       "    .dataframe thead th {\n",
       "        text-align: right;\n",
       "    }\n",
       "</style>\n",
       "<table border=\"1\" class=\"dataframe\">\n",
       "  <thead>\n",
       "    <tr style=\"text-align: right;\">\n",
       "      <th></th>\n",
       "      <th>Open</th>\n",
       "      <th>Close</th>\n",
       "    </tr>\n",
       "  </thead>\n",
       "  <tbody>\n",
       "    <tr>\n",
       "      <th>0</th>\n",
       "      <td>8.210000</td>\n",
       "      <td>8.300000</td>\n",
       "    </tr>\n",
       "    <tr>\n",
       "      <th>1</th>\n",
       "      <td>8.055000</td>\n",
       "      <td>7.930000</td>\n",
       "    </tr>\n",
       "    <tr>\n",
       "      <th>2</th>\n",
       "      <td>7.935000</td>\n",
       "      <td>8.130000</td>\n",
       "    </tr>\n",
       "    <tr>\n",
       "      <th>3</th>\n",
       "      <td>8.125000</td>\n",
       "      <td>8.080000</td>\n",
       "    </tr>\n",
       "    <tr>\n",
       "      <th>4</th>\n",
       "      <td>8.000000</td>\n",
       "      <td>8.050000</td>\n",
       "    </tr>\n",
       "    <tr>\n",
       "      <th>...</th>\n",
       "      <td>...</td>\n",
       "      <td>...</td>\n",
       "    </tr>\n",
       "    <tr>\n",
       "      <th>247</th>\n",
       "      <td>33.520000</td>\n",
       "      <td>32.459999</td>\n",
       "    </tr>\n",
       "    <tr>\n",
       "      <th>248</th>\n",
       "      <td>32.939999</td>\n",
       "      <td>33.419998</td>\n",
       "    </tr>\n",
       "    <tr>\n",
       "      <th>249</th>\n",
       "      <td>33.470001</td>\n",
       "      <td>35.590000</td>\n",
       "    </tr>\n",
       "    <tr>\n",
       "      <th>250</th>\n",
       "      <td>35.209999</td>\n",
       "      <td>34.900002</td>\n",
       "    </tr>\n",
       "    <tr>\n",
       "      <th>251</th>\n",
       "      <td>34.349998</td>\n",
       "      <td>33.619999</td>\n",
       "    </tr>\n",
       "  </tbody>\n",
       "</table>\n",
       "<p>252 rows × 2 columns</p>\n",
       "</div>"
      ],
      "text/plain": [
       "          Open      Close\n",
       "0     8.210000   8.300000\n",
       "1     8.055000   7.930000\n",
       "2     7.935000   8.130000\n",
       "3     8.125000   8.080000\n",
       "4     8.000000   8.050000\n",
       "..         ...        ...\n",
       "247  33.520000  32.459999\n",
       "248  32.939999  33.419998\n",
       "249  33.470001  35.590000\n",
       "250  35.209999  34.900002\n",
       "251  34.349998  33.619999\n",
       "\n",
       "[252 rows x 2 columns]"
      ]
     },
     "execution_count": 95,
     "metadata": {},
     "output_type": "execute_result"
    }
   ],
   "source": [
    "data[['Open', 'Close']]"
   ]
  },
  {
   "cell_type": "code",
   "execution_count": 107,
   "id": "f30621a3",
   "metadata": {},
   "outputs": [
    {
     "data": {
      "text/html": [
       "<div>\n",
       "<style scoped>\n",
       "    .dataframe tbody tr th:only-of-type {\n",
       "        vertical-align: middle;\n",
       "    }\n",
       "\n",
       "    .dataframe tbody tr th {\n",
       "        vertical-align: top;\n",
       "    }\n",
       "\n",
       "    .dataframe thead th {\n",
       "        text-align: right;\n",
       "    }\n",
       "</style>\n",
       "<table border=\"1\" class=\"dataframe\">\n",
       "  <thead>\n",
       "    <tr style=\"text-align: right;\">\n",
       "      <th></th>\n",
       "      <th>Date</th>\n",
       "      <th>Open</th>\n",
       "      <th>High</th>\n",
       "      <th>Low</th>\n",
       "      <th>Close</th>\n",
       "      <th>Adj Close</th>\n",
       "      <th>Volume</th>\n",
       "      <th>Change</th>\n",
       "    </tr>\n",
       "  </thead>\n",
       "  <tbody>\n",
       "    <tr>\n",
       "      <th>11</th>\n",
       "      <td>2023-01-03</td>\n",
       "      <td>8.220</td>\n",
       "      <td>8.24</td>\n",
       "      <td>8.010</td>\n",
       "      <td>8.20</td>\n",
       "      <td>8.20</td>\n",
       "      <td>2821600</td>\n",
       "      <td>-0.010856</td>\n",
       "    </tr>\n",
       "    <tr>\n",
       "      <th>12</th>\n",
       "      <td>2023-01-04</td>\n",
       "      <td>8.280</td>\n",
       "      <td>8.45</td>\n",
       "      <td>8.130</td>\n",
       "      <td>8.38</td>\n",
       "      <td>8.38</td>\n",
       "      <td>2291400</td>\n",
       "      <td>0.021951</td>\n",
       "    </tr>\n",
       "    <tr>\n",
       "      <th>13</th>\n",
       "      <td>2023-01-05</td>\n",
       "      <td>8.370</td>\n",
       "      <td>8.49</td>\n",
       "      <td>8.210</td>\n",
       "      <td>8.45</td>\n",
       "      <td>8.45</td>\n",
       "      <td>2434500</td>\n",
       "      <td>0.008353</td>\n",
       "    </tr>\n",
       "    <tr>\n",
       "      <th>14</th>\n",
       "      <td>2023-01-06</td>\n",
       "      <td>8.310</td>\n",
       "      <td>8.69</td>\n",
       "      <td>8.250</td>\n",
       "      <td>8.65</td>\n",
       "      <td>8.65</td>\n",
       "      <td>2183800</td>\n",
       "      <td>0.023669</td>\n",
       "    </tr>\n",
       "    <tr>\n",
       "      <th>15</th>\n",
       "      <td>2023-01-09</td>\n",
       "      <td>8.825</td>\n",
       "      <td>9.83</td>\n",
       "      <td>8.820</td>\n",
       "      <td>9.65</td>\n",
       "      <td>9.65</td>\n",
       "      <td>5852900</td>\n",
       "      <td>0.115607</td>\n",
       "    </tr>\n",
       "    <tr>\n",
       "      <th>16</th>\n",
       "      <td>2023-01-10</td>\n",
       "      <td>9.705</td>\n",
       "      <td>9.95</td>\n",
       "      <td>9.450</td>\n",
       "      <td>9.88</td>\n",
       "      <td>9.88</td>\n",
       "      <td>2622300</td>\n",
       "      <td>0.023834</td>\n",
       "    </tr>\n",
       "    <tr>\n",
       "      <th>17</th>\n",
       "      <td>2023-01-11</td>\n",
       "      <td>9.635</td>\n",
       "      <td>9.96</td>\n",
       "      <td>9.260</td>\n",
       "      <td>9.80</td>\n",
       "      <td>9.80</td>\n",
       "      <td>2589500</td>\n",
       "      <td>-0.008097</td>\n",
       "    </tr>\n",
       "    <tr>\n",
       "      <th>18</th>\n",
       "      <td>2023-01-12</td>\n",
       "      <td>10.205</td>\n",
       "      <td>11.24</td>\n",
       "      <td>9.900</td>\n",
       "      <td>10.49</td>\n",
       "      <td>10.49</td>\n",
       "      <td>7541300</td>\n",
       "      <td>0.070408</td>\n",
       "    </tr>\n",
       "    <tr>\n",
       "      <th>19</th>\n",
       "      <td>2023-01-13</td>\n",
       "      <td>10.305</td>\n",
       "      <td>11.43</td>\n",
       "      <td>10.220</td>\n",
       "      <td>11.32</td>\n",
       "      <td>11.32</td>\n",
       "      <td>5758000</td>\n",
       "      <td>0.079123</td>\n",
       "    </tr>\n",
       "    <tr>\n",
       "      <th>20</th>\n",
       "      <td>2023-01-17</td>\n",
       "      <td>12.020</td>\n",
       "      <td>12.45</td>\n",
       "      <td>11.300</td>\n",
       "      <td>11.72</td>\n",
       "      <td>11.72</td>\n",
       "      <td>7197600</td>\n",
       "      <td>0.035336</td>\n",
       "    </tr>\n",
       "    <tr>\n",
       "      <th>21</th>\n",
       "      <td>2023-01-18</td>\n",
       "      <td>11.940</td>\n",
       "      <td>12.00</td>\n",
       "      <td>10.510</td>\n",
       "      <td>10.83</td>\n",
       "      <td>10.83</td>\n",
       "      <td>5943800</td>\n",
       "      <td>-0.075939</td>\n",
       "    </tr>\n",
       "    <tr>\n",
       "      <th>22</th>\n",
       "      <td>2023-01-19</td>\n",
       "      <td>10.545</td>\n",
       "      <td>11.87</td>\n",
       "      <td>10.540</td>\n",
       "      <td>11.46</td>\n",
       "      <td>11.46</td>\n",
       "      <td>4372600</td>\n",
       "      <td>0.058172</td>\n",
       "    </tr>\n",
       "    <tr>\n",
       "      <th>23</th>\n",
       "      <td>2023-01-20</td>\n",
       "      <td>11.500</td>\n",
       "      <td>12.25</td>\n",
       "      <td>11.225</td>\n",
       "      <td>12.18</td>\n",
       "      <td>12.18</td>\n",
       "      <td>4539600</td>\n",
       "      <td>0.062827</td>\n",
       "    </tr>\n",
       "    <tr>\n",
       "      <th>24</th>\n",
       "      <td>2023-01-23</td>\n",
       "      <td>12.305</td>\n",
       "      <td>12.82</td>\n",
       "      <td>11.880</td>\n",
       "      <td>12.28</td>\n",
       "      <td>12.28</td>\n",
       "      <td>5911400</td>\n",
       "      <td>0.008210</td>\n",
       "    </tr>\n",
       "    <tr>\n",
       "      <th>25</th>\n",
       "      <td>2023-01-24</td>\n",
       "      <td>12.300</td>\n",
       "      <td>12.35</td>\n",
       "      <td>11.830</td>\n",
       "      <td>11.97</td>\n",
       "      <td>11.97</td>\n",
       "      <td>3000400</td>\n",
       "      <td>-0.025244</td>\n",
       "    </tr>\n",
       "    <tr>\n",
       "      <th>26</th>\n",
       "      <td>2023-01-25</td>\n",
       "      <td>11.765</td>\n",
       "      <td>12.19</td>\n",
       "      <td>11.350</td>\n",
       "      <td>12.11</td>\n",
       "      <td>12.11</td>\n",
       "      <td>2922900</td>\n",
       "      <td>0.011696</td>\n",
       "    </tr>\n",
       "    <tr>\n",
       "      <th>27</th>\n",
       "      <td>2023-01-26</td>\n",
       "      <td>12.205</td>\n",
       "      <td>12.31</td>\n",
       "      <td>11.810</td>\n",
       "      <td>12.24</td>\n",
       "      <td>12.24</td>\n",
       "      <td>2560500</td>\n",
       "      <td>0.010735</td>\n",
       "    </tr>\n",
       "    <tr>\n",
       "      <th>28</th>\n",
       "      <td>2023-01-27</td>\n",
       "      <td>12.160</td>\n",
       "      <td>12.56</td>\n",
       "      <td>12.060</td>\n",
       "      <td>12.36</td>\n",
       "      <td>12.36</td>\n",
       "      <td>2308500</td>\n",
       "      <td>0.009804</td>\n",
       "    </tr>\n",
       "    <tr>\n",
       "      <th>29</th>\n",
       "      <td>2023-01-30</td>\n",
       "      <td>12.340</td>\n",
       "      <td>12.43</td>\n",
       "      <td>11.850</td>\n",
       "      <td>11.89</td>\n",
       "      <td>11.89</td>\n",
       "      <td>4668200</td>\n",
       "      <td>-0.038026</td>\n",
       "    </tr>\n",
       "  </tbody>\n",
       "</table>\n",
       "</div>"
      ],
      "text/plain": [
       "          Date    Open   High     Low  Close  Adj Close   Volume    Change\n",
       "11  2023-01-03   8.220   8.24   8.010   8.20       8.20  2821600 -0.010856\n",
       "12  2023-01-04   8.280   8.45   8.130   8.38       8.38  2291400  0.021951\n",
       "13  2023-01-05   8.370   8.49   8.210   8.45       8.45  2434500  0.008353\n",
       "14  2023-01-06   8.310   8.69   8.250   8.65       8.65  2183800  0.023669\n",
       "15  2023-01-09   8.825   9.83   8.820   9.65       9.65  5852900  0.115607\n",
       "16  2023-01-10   9.705   9.95   9.450   9.88       9.88  2622300  0.023834\n",
       "17  2023-01-11   9.635   9.96   9.260   9.80       9.80  2589500 -0.008097\n",
       "18  2023-01-12  10.205  11.24   9.900  10.49      10.49  7541300  0.070408\n",
       "19  2023-01-13  10.305  11.43  10.220  11.32      11.32  5758000  0.079123\n",
       "20  2023-01-17  12.020  12.45  11.300  11.72      11.72  7197600  0.035336\n",
       "21  2023-01-18  11.940  12.00  10.510  10.83      10.83  5943800 -0.075939\n",
       "22  2023-01-19  10.545  11.87  10.540  11.46      11.46  4372600  0.058172\n",
       "23  2023-01-20  11.500  12.25  11.225  12.18      12.18  4539600  0.062827\n",
       "24  2023-01-23  12.305  12.82  11.880  12.28      12.28  5911400  0.008210\n",
       "25  2023-01-24  12.300  12.35  11.830  11.97      11.97  3000400 -0.025244\n",
       "26  2023-01-25  11.765  12.19  11.350  12.11      12.11  2922900  0.011696\n",
       "27  2023-01-26  12.205  12.31  11.810  12.24      12.24  2560500  0.010735\n",
       "28  2023-01-27  12.160  12.56  12.060  12.36      12.36  2308500  0.009804\n",
       "29  2023-01-30  12.340  12.43  11.850  11.89      11.89  4668200 -0.038026"
      ]
     },
     "execution_count": 107,
     "metadata": {},
     "output_type": "execute_result"
    }
   ],
   "source": [
    "data.iloc[11:30]"
   ]
  },
  {
   "cell_type": "code",
   "execution_count": 35,
   "id": "4e1e76ae",
   "metadata": {},
   "outputs": [],
   "source": []
  },
  {
   "cell_type": "code",
   "execution_count": null,
   "id": "fb2719c5",
   "metadata": {},
   "outputs": [],
   "source": []
  },
  {
   "cell_type": "code",
   "execution_count": null,
   "id": "13f02b93",
   "metadata": {},
   "outputs": [],
   "source": []
  },
  {
   "cell_type": "code",
   "execution_count": 14,
   "id": "460ae134",
   "metadata": {},
   "outputs": [],
   "source": []
  },
  {
   "cell_type": "code",
   "execution_count": null,
   "id": "2c1c131a",
   "metadata": {},
   "outputs": [],
   "source": []
  },
  {
   "cell_type": "markdown",
   "id": "dc5aff70",
   "metadata": {},
   "source": [
    "### 3. Dates and Indexes"
   ]
  },
  {
   "cell_type": "code",
   "execution_count": 113,
   "id": "6af39a7d",
   "metadata": {},
   "outputs": [
    {
     "data": {
      "text/plain": [
       "Index(['2022-12-15', '2022-12-16', '2022-12-19', '2022-12-20', '2022-12-21',\n",
       "       '2022-12-22', '2022-12-23', '2022-12-27', '2022-12-28', '2022-12-29',\n",
       "       ...\n",
       "       '2023-12-04', '2023-12-05', '2023-12-06', '2023-12-07', '2023-12-08',\n",
       "       '2023-12-11', '2023-12-12', '2023-12-13', '2023-12-14', '2023-12-15'],\n",
       "      dtype='object', name='Date', length=252)"
      ]
     },
     "execution_count": 113,
     "metadata": {},
     "output_type": "execute_result"
    }
   ],
   "source": [
    "data.index = data['Date']\n",
    "\n",
    "data.index"
   ]
  },
  {
   "cell_type": "code",
   "execution_count": 123,
   "id": "516aa5f1",
   "metadata": {},
   "outputs": [],
   "source": [
    "data.drop(columns=['Date'], inplace = True)\n"
   ]
  },
  {
   "cell_type": "code",
   "execution_count": 125,
   "id": "18d64680-eff7-4f14-8306-db29c2ddae95",
   "metadata": {},
   "outputs": [
    {
     "data": {
      "text/html": [
       "<div>\n",
       "<style scoped>\n",
       "    .dataframe tbody tr th:only-of-type {\n",
       "        vertical-align: middle;\n",
       "    }\n",
       "\n",
       "    .dataframe tbody tr th {\n",
       "        vertical-align: top;\n",
       "    }\n",
       "\n",
       "    .dataframe thead th {\n",
       "        text-align: right;\n",
       "    }\n",
       "</style>\n",
       "<table border=\"1\" class=\"dataframe\">\n",
       "  <thead>\n",
       "    <tr style=\"text-align: right;\">\n",
       "      <th></th>\n",
       "      <th>Open</th>\n",
       "      <th>High</th>\n",
       "      <th>Low</th>\n",
       "      <th>Close</th>\n",
       "      <th>Adj Close</th>\n",
       "      <th>Volume</th>\n",
       "      <th>Change</th>\n",
       "    </tr>\n",
       "    <tr>\n",
       "      <th>Date</th>\n",
       "      <th></th>\n",
       "      <th></th>\n",
       "      <th></th>\n",
       "      <th></th>\n",
       "      <th></th>\n",
       "      <th></th>\n",
       "      <th></th>\n",
       "    </tr>\n",
       "  </thead>\n",
       "  <tbody>\n",
       "    <tr>\n",
       "      <th>2022-12-15</th>\n",
       "      <td>8.210</td>\n",
       "      <td>8.353</td>\n",
       "      <td>8.14</td>\n",
       "      <td>8.30</td>\n",
       "      <td>8.30</td>\n",
       "      <td>2934400</td>\n",
       "      <td>NaN</td>\n",
       "    </tr>\n",
       "    <tr>\n",
       "      <th>2022-12-16</th>\n",
       "      <td>8.055</td>\n",
       "      <td>8.130</td>\n",
       "      <td>7.90</td>\n",
       "      <td>7.93</td>\n",
       "      <td>7.93</td>\n",
       "      <td>3795900</td>\n",
       "      <td>-0.044578</td>\n",
       "    </tr>\n",
       "    <tr>\n",
       "      <th>2022-12-19</th>\n",
       "      <td>7.935</td>\n",
       "      <td>8.400</td>\n",
       "      <td>7.93</td>\n",
       "      <td>8.13</td>\n",
       "      <td>8.13</td>\n",
       "      <td>3558400</td>\n",
       "      <td>0.025221</td>\n",
       "    </tr>\n",
       "    <tr>\n",
       "      <th>2022-12-20</th>\n",
       "      <td>8.125</td>\n",
       "      <td>8.300</td>\n",
       "      <td>7.84</td>\n",
       "      <td>8.08</td>\n",
       "      <td>8.08</td>\n",
       "      <td>3390300</td>\n",
       "      <td>-0.006150</td>\n",
       "    </tr>\n",
       "    <tr>\n",
       "      <th>2022-12-21</th>\n",
       "      <td>8.000</td>\n",
       "      <td>8.070</td>\n",
       "      <td>7.92</td>\n",
       "      <td>8.05</td>\n",
       "      <td>8.05</td>\n",
       "      <td>2538200</td>\n",
       "      <td>-0.003713</td>\n",
       "    </tr>\n",
       "  </tbody>\n",
       "</table>\n",
       "</div>"
      ],
      "text/plain": [
       "             Open   High   Low  Close  Adj Close   Volume    Change\n",
       "Date                                                               \n",
       "2022-12-15  8.210  8.353  8.14   8.30       8.30  2934400       NaN\n",
       "2022-12-16  8.055  8.130  7.90   7.93       7.93  3795900 -0.044578\n",
       "2022-12-19  7.935  8.400  7.93   8.13       8.13  3558400  0.025221\n",
       "2022-12-20  8.125  8.300  7.84   8.08       8.08  3390300 -0.006150\n",
       "2022-12-21  8.000  8.070  7.92   8.05       8.05  2538200 -0.003713"
      ]
     },
     "execution_count": 125,
     "metadata": {},
     "output_type": "execute_result"
    }
   ],
   "source": [
    "data.head()"
   ]
  },
  {
   "cell_type": "code",
   "execution_count": 127,
   "id": "588421ce-7863-4e75-b0e8-1d3d774ce2c5",
   "metadata": {},
   "outputs": [
    {
     "name": "stdout",
     "output_type": "stream",
     "text": [
      "<class 'pandas.core.frame.DataFrame'>\n",
      "Index: 252 entries, 2022-12-15 to 2023-12-15\n",
      "Data columns (total 7 columns):\n",
      " #   Column     Non-Null Count  Dtype  \n",
      "---  ------     --------------  -----  \n",
      " 0   Open       252 non-null    float64\n",
      " 1   High       252 non-null    float64\n",
      " 2   Low        252 non-null    float64\n",
      " 3   Close      252 non-null    float64\n",
      " 4   Adj Close  252 non-null    float64\n",
      " 5   Volume     252 non-null    int64  \n",
      " 6   Change     251 non-null    float64\n",
      "dtypes: float64(6), int64(1)\n",
      "memory usage: 15.8+ KB\n"
     ]
    }
   ],
   "source": [
    "data.info()"
   ]
  },
  {
   "cell_type": "code",
   "execution_count": 131,
   "id": "569b178f",
   "metadata": {},
   "outputs": [
    {
     "data": {
      "text/plain": [
       "Open         8.125000e+00\n",
       "High         8.300000e+00\n",
       "Low          7.840000e+00\n",
       "Close        8.080000e+00\n",
       "Adj Close    8.080000e+00\n",
       "Volume       3.390300e+06\n",
       "Change      -6.150062e-03\n",
       "Name: 2022-12-20, dtype: float64"
      ]
     },
     "execution_count": 131,
     "metadata": {},
     "output_type": "execute_result"
    }
   ],
   "source": [
    "data.loc['2022-12-20']"
   ]
  },
  {
   "cell_type": "code",
   "execution_count": 165,
   "id": "06eee5d4",
   "metadata": {},
   "outputs": [
    {
     "ename": "AttributeError",
     "evalue": "'DatetimeIndex' object has no attribute 'loc'",
     "output_type": "error",
     "traceback": [
      "\u001b[1;31m---------------------------------------------------------------------------\u001b[0m",
      "\u001b[1;31mAttributeError\u001b[0m                            Traceback (most recent call last)",
      "Cell \u001b[1;32mIn[165], line 2\u001b[0m\n\u001b[0;32m      1\u001b[0m \u001b[38;5;66;03m#data.index = pd.DatetimeIndex(data.index)\u001b[39;00m\n\u001b[1;32m----> 2\u001b[0m data\u001b[38;5;241m.\u001b[39mloc[\u001b[38;5;124m'\u001b[39m\u001b[38;5;124m2023-01-03\u001b[39m\u001b[38;5;124m'\u001b[39m:\u001b[38;5;124m'\u001b[39m\u001b[38;5;124m2023-01-31\u001b[39m\u001b[38;5;124m'\u001b[39m]\n",
      "\u001b[1;31mAttributeError\u001b[0m: 'DatetimeIndex' object has no attribute 'loc'"
     ]
    }
   ],
   "source": [
    "#data.index = pd.DatetimeIndex(data.index)\n",
    "data.loc['2023-01-03':'2023-01-31']"
   ]
  },
  {
   "cell_type": "code",
   "execution_count": null,
   "id": "d6c21f0c-0297-4b54-8d10-749104cb1063",
   "metadata": {},
   "outputs": [],
   "source": []
  },
  {
   "cell_type": "code",
   "execution_count": null,
   "id": "95140e9b-1d40-4157-9024-f1fd55f30a7a",
   "metadata": {},
   "outputs": [],
   "source": []
  },
  {
   "cell_type": "code",
   "execution_count": 163,
   "id": "ac7dde8f",
   "metadata": {},
   "outputs": [
    {
     "ename": "IndexError",
     "evalue": "only integers, slices (`:`), ellipsis (`...`), numpy.newaxis (`None`) and integer or boolean arrays are valid indices",
     "output_type": "error",
     "traceback": [
      "\u001b[1;31m---------------------------------------------------------------------------\u001b[0m",
      "\u001b[1;31mIndexError\u001b[0m                                Traceback (most recent call last)",
      "Cell \u001b[1;32mIn[163], line 2\u001b[0m\n\u001b[0;32m      1\u001b[0m \u001b[38;5;66;03m# need to give pandas an aggregate function, i.e. mean, std, first, last\u001b[39;00m\n\u001b[1;32m----> 2\u001b[0m data[\u001b[38;5;124m'\u001b[39m\u001b[38;5;124mClose\u001b[39m\u001b[38;5;124m'\u001b[39m]\u001b[38;5;241m.\u001b[39mresample(\u001b[38;5;124m'\u001b[39m\u001b[38;5;124mME\u001b[39m\u001b[38;5;124m'\u001b[39m)\u001b[38;5;241m.\u001b[39mlast\n",
      "File \u001b[1;32m~\\anaconda3\\Lib\\site-packages\\pandas\\core\\indexes\\base.py:5416\u001b[0m, in \u001b[0;36mIndex.__getitem__\u001b[1;34m(self, key)\u001b[0m\n\u001b[0;32m   5407\u001b[0m         \u001b[38;5;28;01mif\u001b[39;00m \u001b[38;5;28mlen\u001b[39m(key) \u001b[38;5;241m==\u001b[39m \u001b[38;5;241m0\u001b[39m \u001b[38;5;129;01mand\u001b[39;00m \u001b[38;5;28mlen\u001b[39m(key) \u001b[38;5;241m!=\u001b[39m \u001b[38;5;28mlen\u001b[39m(\u001b[38;5;28mself\u001b[39m):\n\u001b[0;32m   5408\u001b[0m             warnings\u001b[38;5;241m.\u001b[39mwarn(\n\u001b[0;32m   5409\u001b[0m                 \u001b[38;5;124m\"\u001b[39m\u001b[38;5;124mUsing a boolean indexer with length 0 on an Index with \u001b[39m\u001b[38;5;124m\"\u001b[39m\n\u001b[0;32m   5410\u001b[0m                 \u001b[38;5;124m\"\u001b[39m\u001b[38;5;124mlength greater than 0 is deprecated and will raise in a \u001b[39m\u001b[38;5;124m\"\u001b[39m\n\u001b[1;32m   (...)\u001b[0m\n\u001b[0;32m   5413\u001b[0m                 stacklevel\u001b[38;5;241m=\u001b[39mfind_stack_level(),\n\u001b[0;32m   5414\u001b[0m             )\n\u001b[1;32m-> 5416\u001b[0m result \u001b[38;5;241m=\u001b[39m getitem(key)\n\u001b[0;32m   5417\u001b[0m \u001b[38;5;66;03m# Because we ruled out integer above, we always get an arraylike here\u001b[39;00m\n\u001b[0;32m   5418\u001b[0m \u001b[38;5;28;01mif\u001b[39;00m result\u001b[38;5;241m.\u001b[39mndim \u001b[38;5;241m>\u001b[39m \u001b[38;5;241m1\u001b[39m:\n",
      "File \u001b[1;32m~\\anaconda3\\Lib\\site-packages\\pandas\\core\\arrays\\datetimelike.py:381\u001b[0m, in \u001b[0;36mDatetimeLikeArrayMixin.__getitem__\u001b[1;34m(self, key)\u001b[0m\n\u001b[0;32m    374\u001b[0m \u001b[38;5;250m\u001b[39m\u001b[38;5;124;03m\"\"\"\u001b[39;00m\n\u001b[0;32m    375\u001b[0m \u001b[38;5;124;03mThis getitem defers to the underlying array, which by-definition can\u001b[39;00m\n\u001b[0;32m    376\u001b[0m \u001b[38;5;124;03monly handle list-likes, slices, and integer scalars\u001b[39;00m\n\u001b[0;32m    377\u001b[0m \u001b[38;5;124;03m\"\"\"\u001b[39;00m\n\u001b[0;32m    378\u001b[0m \u001b[38;5;66;03m# Use cast as we know we will get back a DatetimeLikeArray or DTScalar,\u001b[39;00m\n\u001b[0;32m    379\u001b[0m \u001b[38;5;66;03m# but skip evaluating the Union at runtime for performance\u001b[39;00m\n\u001b[0;32m    380\u001b[0m \u001b[38;5;66;03m# (see https://github.com/pandas-dev/pandas/pull/44624)\u001b[39;00m\n\u001b[1;32m--> 381\u001b[0m result \u001b[38;5;241m=\u001b[39m cast(\u001b[38;5;124m\"\u001b[39m\u001b[38;5;124mUnion[Self, DTScalarOrNaT]\u001b[39m\u001b[38;5;124m\"\u001b[39m, \u001b[38;5;28msuper\u001b[39m()\u001b[38;5;241m.\u001b[39m\u001b[38;5;21m__getitem__\u001b[39m(key))\n\u001b[0;32m    382\u001b[0m \u001b[38;5;28;01mif\u001b[39;00m lib\u001b[38;5;241m.\u001b[39mis_scalar(result):\n\u001b[0;32m    383\u001b[0m     \u001b[38;5;28;01mreturn\u001b[39;00m result\n",
      "File \u001b[1;32m~\\anaconda3\\Lib\\site-packages\\pandas\\core\\arrays\\_mixins.py:293\u001b[0m, in \u001b[0;36mNDArrayBackedExtensionArray.__getitem__\u001b[1;34m(self, key)\u001b[0m\n\u001b[0;32m    291\u001b[0m key \u001b[38;5;241m=\u001b[39m extract_array(key, extract_numpy\u001b[38;5;241m=\u001b[39m\u001b[38;5;28;01mTrue\u001b[39;00m)  \u001b[38;5;66;03m# type: ignore[assignment]\u001b[39;00m\n\u001b[0;32m    292\u001b[0m key \u001b[38;5;241m=\u001b[39m check_array_indexer(\u001b[38;5;28mself\u001b[39m, key)\n\u001b[1;32m--> 293\u001b[0m result \u001b[38;5;241m=\u001b[39m \u001b[38;5;28mself\u001b[39m\u001b[38;5;241m.\u001b[39m_ndarray[key]\n\u001b[0;32m    294\u001b[0m \u001b[38;5;28;01mif\u001b[39;00m lib\u001b[38;5;241m.\u001b[39mis_scalar(result):\n\u001b[0;32m    295\u001b[0m     \u001b[38;5;28;01mreturn\u001b[39;00m \u001b[38;5;28mself\u001b[39m\u001b[38;5;241m.\u001b[39m_box_func(result)\n",
      "\u001b[1;31mIndexError\u001b[0m: only integers, slices (`:`), ellipsis (`...`), numpy.newaxis (`None`) and integer or boolean arrays are valid indices"
     ]
    }
   ],
   "source": [
    "# need to give pandas an aggregate function, i.e. mean, std, first, last\n",
    "data['Close'].resample('ME').last"
   ]
  },
  {
   "cell_type": "code",
   "execution_count": 80,
   "id": "eb427a6a",
   "metadata": {},
   "outputs": [],
   "source": [
    "# M, BM, MS, BMS\n"
   ]
  },
  {
   "cell_type": "code",
   "execution_count": 81,
   "id": "f0c5748e",
   "metadata": {},
   "outputs": [],
   "source": [
    "# be careful with resampling\n"
   ]
  },
  {
   "cell_type": "markdown",
   "id": "3838de3f",
   "metadata": {},
   "source": [
    "### 4. Slicing index loc vs. iloc"
   ]
  },
  {
   "cell_type": "code",
   "execution_count": null,
   "id": "d81736ea",
   "metadata": {},
   "outputs": [],
   "source": []
  },
  {
   "cell_type": "code",
   "execution_count": null,
   "id": "69a328bb",
   "metadata": {},
   "outputs": [],
   "source": []
  },
  {
   "cell_type": "code",
   "execution_count": null,
   "id": "e466a661",
   "metadata": {},
   "outputs": [],
   "source": []
  },
  {
   "cell_type": "markdown",
   "id": "61dac206",
   "metadata": {},
   "source": [
    "### 5. Slicing columns (columns a second index in DataFrames)"
   ]
  },
  {
   "cell_type": "code",
   "execution_count": 82,
   "id": "9b60eba6",
   "metadata": {},
   "outputs": [],
   "source": [
    "# or data['Close']\n"
   ]
  },
  {
   "cell_type": "code",
   "execution_count": null,
   "id": "076dc9ee",
   "metadata": {},
   "outputs": [],
   "source": []
  },
  {
   "cell_type": "code",
   "execution_count": null,
   "id": "30196ff4",
   "metadata": {},
   "outputs": [],
   "source": []
  },
  {
   "cell_type": "code",
   "execution_count": 83,
   "id": "b6240a63",
   "metadata": {},
   "outputs": [],
   "source": [
    "# reorders columns alphabetically\n"
   ]
  },
  {
   "cell_type": "markdown",
   "id": "e2d50dd9",
   "metadata": {},
   "source": [
    "### 6. Renaming columns"
   ]
  },
  {
   "cell_type": "code",
   "execution_count": 167,
   "id": "05d5f146",
   "metadata": {},
   "outputs": [
    {
     "ename": "TypeError",
     "evalue": "Index.rename() got an unexpected keyword argument 'columns'",
     "output_type": "error",
     "traceback": [
      "\u001b[1;31m---------------------------------------------------------------------------\u001b[0m",
      "\u001b[1;31mTypeError\u001b[0m                                 Traceback (most recent call last)",
      "Cell \u001b[1;32mIn[167], line 1\u001b[0m\n\u001b[1;32m----> 1\u001b[0m data\u001b[38;5;241m.\u001b[39mrename(columns\u001b[38;5;241m=\u001b[39m{\u001b[38;5;124m'\u001b[39m\u001b[38;5;124mOpen\u001b[39m\u001b[38;5;124m'\u001b[39m:\u001b[38;5;124m'\u001b[39m\u001b[38;5;124mFirstTrade\u001b[39m\u001b[38;5;124m'\u001b[39m})\n",
      "File \u001b[1;32m~\\anaconda3\\Lib\\site-packages\\pandas\\util\\_decorators.py:333\u001b[0m, in \u001b[0;36mdeprecate_nonkeyword_arguments.<locals>.decorate.<locals>.wrapper\u001b[1;34m(*args, **kwargs)\u001b[0m\n\u001b[0;32m    327\u001b[0m \u001b[38;5;28;01mif\u001b[39;00m \u001b[38;5;28mlen\u001b[39m(args) \u001b[38;5;241m>\u001b[39m num_allow_args:\n\u001b[0;32m    328\u001b[0m     warnings\u001b[38;5;241m.\u001b[39mwarn(\n\u001b[0;32m    329\u001b[0m         msg\u001b[38;5;241m.\u001b[39mformat(arguments\u001b[38;5;241m=\u001b[39m_format_argument_list(allow_args)),\n\u001b[0;32m    330\u001b[0m         \u001b[38;5;167;01mFutureWarning\u001b[39;00m,\n\u001b[0;32m    331\u001b[0m         stacklevel\u001b[38;5;241m=\u001b[39mfind_stack_level(),\n\u001b[0;32m    332\u001b[0m     )\n\u001b[1;32m--> 333\u001b[0m \u001b[38;5;28;01mreturn\u001b[39;00m func(\u001b[38;5;241m*\u001b[39margs, \u001b[38;5;241m*\u001b[39m\u001b[38;5;241m*\u001b[39mkwargs)\n",
      "\u001b[1;31mTypeError\u001b[0m: Index.rename() got an unexpected keyword argument 'columns'"
     ]
    }
   ],
   "source": [
    "data.rename(columns={'Open':'FirstTrade'}, inplace=True)"
   ]
  },
  {
   "cell_type": "code",
   "execution_count": 84,
   "id": "7f78e1fb",
   "metadata": {},
   "outputs": [],
   "source": [
    "# what gives? \n"
   ]
  },
  {
   "cell_type": "markdown",
   "id": "f5aef3fd",
   "metadata": {},
   "source": [
    "### 7. Reordering columns"
   ]
  },
  {
   "cell_type": "code",
   "execution_count": 171,
   "id": "da972628",
   "metadata": {},
   "outputs": [
    {
     "ename": "IndexError",
     "evalue": "arrays used as indices must be of integer or boolean type",
     "output_type": "error",
     "traceback": [
      "\u001b[1;31m---------------------------------------------------------------------------\u001b[0m",
      "\u001b[1;31mIndexError\u001b[0m                                Traceback (most recent call last)",
      "Cell \u001b[1;32mIn[171], line 1\u001b[0m\n\u001b[1;32m----> 1\u001b[0m reordered \u001b[38;5;241m=\u001b[39m data[[\u001b[38;5;124m'\u001b[39m\u001b[38;5;124mVolume\u001b[39m\u001b[38;5;124m'\u001b[39m,\u001b[38;5;124m'\u001b[39m\u001b[38;5;124mClose\u001b[39m\u001b[38;5;124m'\u001b[39m,\u001b[38;5;124m'\u001b[39m\u001b[38;5;124mChange\u001b[39m\u001b[38;5;124m'\u001b[39m]]\n",
      "File \u001b[1;32m~\\anaconda3\\Lib\\site-packages\\pandas\\core\\indexes\\base.py:5416\u001b[0m, in \u001b[0;36mIndex.__getitem__\u001b[1;34m(self, key)\u001b[0m\n\u001b[0;32m   5407\u001b[0m         \u001b[38;5;28;01mif\u001b[39;00m \u001b[38;5;28mlen\u001b[39m(key) \u001b[38;5;241m==\u001b[39m \u001b[38;5;241m0\u001b[39m \u001b[38;5;129;01mand\u001b[39;00m \u001b[38;5;28mlen\u001b[39m(key) \u001b[38;5;241m!=\u001b[39m \u001b[38;5;28mlen\u001b[39m(\u001b[38;5;28mself\u001b[39m):\n\u001b[0;32m   5408\u001b[0m             warnings\u001b[38;5;241m.\u001b[39mwarn(\n\u001b[0;32m   5409\u001b[0m                 \u001b[38;5;124m\"\u001b[39m\u001b[38;5;124mUsing a boolean indexer with length 0 on an Index with \u001b[39m\u001b[38;5;124m\"\u001b[39m\n\u001b[0;32m   5410\u001b[0m                 \u001b[38;5;124m\"\u001b[39m\u001b[38;5;124mlength greater than 0 is deprecated and will raise in a \u001b[39m\u001b[38;5;124m\"\u001b[39m\n\u001b[1;32m   (...)\u001b[0m\n\u001b[0;32m   5413\u001b[0m                 stacklevel\u001b[38;5;241m=\u001b[39mfind_stack_level(),\n\u001b[0;32m   5414\u001b[0m             )\n\u001b[1;32m-> 5416\u001b[0m result \u001b[38;5;241m=\u001b[39m getitem(key)\n\u001b[0;32m   5417\u001b[0m \u001b[38;5;66;03m# Because we ruled out integer above, we always get an arraylike here\u001b[39;00m\n\u001b[0;32m   5418\u001b[0m \u001b[38;5;28;01mif\u001b[39;00m result\u001b[38;5;241m.\u001b[39mndim \u001b[38;5;241m>\u001b[39m \u001b[38;5;241m1\u001b[39m:\n",
      "File \u001b[1;32m~\\anaconda3\\Lib\\site-packages\\pandas\\core\\arrays\\datetimelike.py:381\u001b[0m, in \u001b[0;36mDatetimeLikeArrayMixin.__getitem__\u001b[1;34m(self, key)\u001b[0m\n\u001b[0;32m    374\u001b[0m \u001b[38;5;250m\u001b[39m\u001b[38;5;124;03m\"\"\"\u001b[39;00m\n\u001b[0;32m    375\u001b[0m \u001b[38;5;124;03mThis getitem defers to the underlying array, which by-definition can\u001b[39;00m\n\u001b[0;32m    376\u001b[0m \u001b[38;5;124;03monly handle list-likes, slices, and integer scalars\u001b[39;00m\n\u001b[0;32m    377\u001b[0m \u001b[38;5;124;03m\"\"\"\u001b[39;00m\n\u001b[0;32m    378\u001b[0m \u001b[38;5;66;03m# Use cast as we know we will get back a DatetimeLikeArray or DTScalar,\u001b[39;00m\n\u001b[0;32m    379\u001b[0m \u001b[38;5;66;03m# but skip evaluating the Union at runtime for performance\u001b[39;00m\n\u001b[0;32m    380\u001b[0m \u001b[38;5;66;03m# (see https://github.com/pandas-dev/pandas/pull/44624)\u001b[39;00m\n\u001b[1;32m--> 381\u001b[0m result \u001b[38;5;241m=\u001b[39m cast(\u001b[38;5;124m\"\u001b[39m\u001b[38;5;124mUnion[Self, DTScalarOrNaT]\u001b[39m\u001b[38;5;124m\"\u001b[39m, \u001b[38;5;28msuper\u001b[39m()\u001b[38;5;241m.\u001b[39m\u001b[38;5;21m__getitem__\u001b[39m(key))\n\u001b[0;32m    382\u001b[0m \u001b[38;5;28;01mif\u001b[39;00m lib\u001b[38;5;241m.\u001b[39mis_scalar(result):\n\u001b[0;32m    383\u001b[0m     \u001b[38;5;28;01mreturn\u001b[39;00m result\n",
      "File \u001b[1;32m~\\anaconda3\\Lib\\site-packages\\pandas\\core\\arrays\\_mixins.py:292\u001b[0m, in \u001b[0;36mNDArrayBackedExtensionArray.__getitem__\u001b[1;34m(self, key)\u001b[0m\n\u001b[0;32m    289\u001b[0m \u001b[38;5;66;03m# error: Incompatible types in assignment (expression has type \"ExtensionArray\",\u001b[39;00m\n\u001b[0;32m    290\u001b[0m \u001b[38;5;66;03m# variable has type \"Union[int, slice, ndarray]\")\u001b[39;00m\n\u001b[0;32m    291\u001b[0m key \u001b[38;5;241m=\u001b[39m extract_array(key, extract_numpy\u001b[38;5;241m=\u001b[39m\u001b[38;5;28;01mTrue\u001b[39;00m)  \u001b[38;5;66;03m# type: ignore[assignment]\u001b[39;00m\n\u001b[1;32m--> 292\u001b[0m key \u001b[38;5;241m=\u001b[39m check_array_indexer(\u001b[38;5;28mself\u001b[39m, key)\n\u001b[0;32m    293\u001b[0m result \u001b[38;5;241m=\u001b[39m \u001b[38;5;28mself\u001b[39m\u001b[38;5;241m.\u001b[39m_ndarray[key]\n\u001b[0;32m    294\u001b[0m \u001b[38;5;28;01mif\u001b[39;00m lib\u001b[38;5;241m.\u001b[39mis_scalar(result):\n",
      "File \u001b[1;32m~\\anaconda3\\Lib\\site-packages\\pandas\\core\\indexers\\utils.py:551\u001b[0m, in \u001b[0;36mcheck_array_indexer\u001b[1;34m(array, indexer)\u001b[0m\n\u001b[0;32m    547\u001b[0m         \u001b[38;5;28;01mraise\u001b[39;00m \u001b[38;5;167;01mValueError\u001b[39;00m(\n\u001b[0;32m    548\u001b[0m             \u001b[38;5;124m\"\u001b[39m\u001b[38;5;124mCannot index with an integer indexer containing NA values\u001b[39m\u001b[38;5;124m\"\u001b[39m\n\u001b[0;32m    549\u001b[0m         ) \u001b[38;5;28;01mfrom\u001b[39;00m \u001b[38;5;21;01merr\u001b[39;00m\n\u001b[0;32m    550\u001b[0m \u001b[38;5;28;01melse\u001b[39;00m:\n\u001b[1;32m--> 551\u001b[0m     \u001b[38;5;28;01mraise\u001b[39;00m \u001b[38;5;167;01mIndexError\u001b[39;00m(\u001b[38;5;124m\"\u001b[39m\u001b[38;5;124marrays used as indices must be of integer or boolean type\u001b[39m\u001b[38;5;124m\"\u001b[39m)\n\u001b[0;32m    553\u001b[0m \u001b[38;5;28;01mreturn\u001b[39;00m indexer\n",
      "\u001b[1;31mIndexError\u001b[0m: arrays used as indices must be of integer or boolean type"
     ]
    }
   ],
   "source": [
    "reordered = data[['Volume','Close','Change']]"
   ]
  },
  {
   "cell_type": "code",
   "execution_count": null,
   "id": "850c7078",
   "metadata": {},
   "outputs": [],
   "source": []
  },
  {
   "cell_type": "markdown",
   "id": "ce136844",
   "metadata": {},
   "source": [
    "### 8. Removing columns or rows"
   ]
  },
  {
   "cell_type": "code",
   "execution_count": 85,
   "id": "fc115afa",
   "metadata": {},
   "outputs": [],
   "source": [
    "# set inplace=True to drop the column from original dataset\n"
   ]
  },
  {
   "cell_type": "code",
   "execution_count": null,
   "id": "92fb6c69",
   "metadata": {},
   "outputs": [],
   "source": [
    "data.drop(columns = [])"
   ]
  },
  {
   "cell_type": "markdown",
   "id": "5662b278",
   "metadata": {},
   "source": [
    "### 9. Sorting"
   ]
  },
  {
   "cell_type": "code",
   "execution_count": 173,
   "id": "210323cd",
   "metadata": {},
   "outputs": [
    {
     "ename": "AttributeError",
     "evalue": "'DatetimeIndex' object has no attribute 'sort_index'",
     "output_type": "error",
     "traceback": [
      "\u001b[1;31m---------------------------------------------------------------------------\u001b[0m",
      "\u001b[1;31mAttributeError\u001b[0m                            Traceback (most recent call last)",
      "Cell \u001b[1;32mIn[173], line 2\u001b[0m\n\u001b[0;32m      1\u001b[0m \u001b[38;5;66;03m# sort in descending order - sorts on index\u001b[39;00m\n\u001b[1;32m----> 2\u001b[0m data\u001b[38;5;241m.\u001b[39msort_index(ascending\u001b[38;5;241m=\u001b[39m\u001b[38;5;28;01mFalse\u001b[39;00m)\n",
      "\u001b[1;31mAttributeError\u001b[0m: 'DatetimeIndex' object has no attribute 'sort_index'"
     ]
    }
   ],
   "source": [
    "# sort in descending order - sorts on index\n",
    "data.sort_index(ascending=False)"
   ]
  },
  {
   "cell_type": "code",
   "execution_count": null,
   "id": "38c08d33",
   "metadata": {},
   "outputs": [],
   "source": []
  },
  {
   "cell_type": "code",
   "execution_count": 5,
   "id": "f5ba6649",
   "metadata": {},
   "outputs": [],
   "source": [
    "# reorders columns alphabetically\n",
    "data.sort_values(by='Close')"
   ]
  },
  {
   "cell_type": "code",
   "execution_count": 6,
   "id": "0e6f3dd9",
   "metadata": {},
   "outputs": [],
   "source": [
    "# value_counts - useful summarization method for aggregating categorical data\n"
   ]
  },
  {
   "cell_type": "code",
   "execution_count": 68,
   "id": "2f01a1be",
   "metadata": {},
   "outputs": [],
   "source": []
  },
  {
   "cell_type": "code",
   "execution_count": null,
   "id": "eee4b6bc",
   "metadata": {},
   "outputs": [],
   "source": []
  },
  {
   "cell_type": "code",
   "execution_count": null,
   "id": "e4318968",
   "metadata": {},
   "outputs": [],
   "source": []
  },
  {
   "cell_type": "code",
   "execution_count": null,
   "id": "21288bc4",
   "metadata": {},
   "outputs": [],
   "source": []
  },
  {
   "cell_type": "code",
   "execution_count": null,
   "id": "976c878c",
   "metadata": {},
   "outputs": [],
   "source": []
  },
  {
   "cell_type": "code",
   "execution_count": null,
   "id": "20d93842",
   "metadata": {},
   "outputs": [],
   "source": []
  },
  {
   "cell_type": "code",
   "execution_count": null,
   "id": "1d2a7d0d",
   "metadata": {},
   "outputs": [],
   "source": []
  }
 ],
 "metadata": {
  "kernelspec": {
   "display_name": "Python 3 (ipykernel)",
   "language": "python",
   "name": "python3"
  },
  "language_info": {
   "codemirror_mode": {
    "name": "ipython",
    "version": 3
   },
   "file_extension": ".py",
   "mimetype": "text/x-python",
   "name": "python",
   "nbconvert_exporter": "python",
   "pygments_lexer": "ipython3",
   "version": "3.12.7"
  }
 },
 "nbformat": 4,
 "nbformat_minor": 5
}
