{
 "cells": [
  {
   "cell_type": "code",
   "execution_count": null,
   "id": "aff4f966-d41b-4bd8-876b-8ba4c4ba5820",
   "metadata": {},
   "outputs": [],
   "source": []
  }
 ],
 "metadata": {
  "kernelspec": {
   "display_name": "",
   "name": ""
  },
  "language_info": {
   "name": ""
  }
 },
 "nbformat": 4,
 "nbformat_minor": 5
}
